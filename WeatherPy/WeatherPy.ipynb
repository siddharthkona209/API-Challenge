{
 "cells": [
  {
   "cell_type": "markdown",
   "metadata": {},
   "source": [
    "# WeatherPy\n",
    "----\n",
    "\n",
    "#### Note\n",
    "* Instructions have been included for each segment. You do not have to follow them exactly, but they are included to help you think through the steps."
   ]
  },
  {
   "cell_type": "code",
   "execution_count": 1,
   "metadata": {
    "scrolled": true
   },
   "outputs": [
    {
     "ename": "ModuleNotFoundError",
     "evalue": "No module named 'api_keys'",
     "output_type": "error",
     "traceback": [
      "\u001b[1;31m---------------------------------------------------------------------------\u001b[0m",
      "\u001b[1;31mModuleNotFoundError\u001b[0m                       Traceback (most recent call last)",
      "\u001b[1;32m<ipython-input-1-ba04718e5cd3>\u001b[0m in \u001b[0;36m<module>\u001b[1;34m\u001b[0m\n\u001b[0;32m      9\u001b[0m \u001b[1;33m\u001b[0m\u001b[0m\n\u001b[0;32m     10\u001b[0m \u001b[1;31m# Import API key\u001b[0m\u001b[1;33m\u001b[0m\u001b[1;33m\u001b[0m\u001b[1;33m\u001b[0m\u001b[0m\n\u001b[1;32m---> 11\u001b[1;33m \u001b[1;32mfrom\u001b[0m \u001b[0mapi_keys\u001b[0m \u001b[1;32mimport\u001b[0m \u001b[0mweather_api_key\u001b[0m\u001b[1;33m\u001b[0m\u001b[1;33m\u001b[0m\u001b[0m\n\u001b[0m\u001b[0;32m     12\u001b[0m \u001b[1;33m\u001b[0m\u001b[0m\n\u001b[0;32m     13\u001b[0m \u001b[1;31m# Incorporated citipy to determine city based on latitude and longitude\u001b[0m\u001b[1;33m\u001b[0m\u001b[1;33m\u001b[0m\u001b[1;33m\u001b[0m\u001b[0m\n",
      "\u001b[1;31mModuleNotFoundError\u001b[0m: No module named 'api_keys'"
     ]
    }
   ],
   "source": [
    "# Dependencies and Setup\n",
    "import matplotlib.pyplot as plt\n",
    "import pandas as pd\n",
    "import numpy as np\n",
    "import requests\n",
    "import time\n",
    "from scipy.stats import linregress\n",
    "from pprint import pprint\n",
    "\n",
    "# Import API key\n",
    "from api_keys import weather_api_key\n",
    "\n",
    "# Incorporated citipy to determine city based on latitude and longitude\n",
    "from citipy import citipy\n",
    "\n",
    "# Output File (CSV)\n",
    "output_data_file = \"output_data/cities.csv\"\n",
    "\n",
    "# Range of latitudes and longitudes\n",
    "lat_range = (-90, 90)\n",
    "lng_range = (-180, 180)"
   ]
  },
  {
   "cell_type": "markdown",
   "metadata": {},
   "source": [
    "## Generate Cities List"
   ]
  },
  {
   "cell_type": "code",
   "execution_count": 2,
   "metadata": {},
   "outputs": [
    {
     "data": {
      "text/plain": [
       "112"
      ]
     },
     "execution_count": 2,
     "metadata": {},
     "output_type": "execute_result"
    }
   ],
   "source": [
    "# List for holding lat_lngs and cities\n",
    "lat_lngs = []\n",
    "cities = []\n",
    "\n",
    "# Create a set of random lat and lng combinations\n",
    "lats = np.random.uniform(lat_range[0], lat_range[1], size=1500)\n",
    "lngs = np.random.uniform(lng_range[0], lng_range[1], size=1500)\n",
    "lat_lngs = zip(lats, lngs)\n",
    "\n",
    "# Identify nearest city for each lat, lng combination\n",
    "for lat_lng in lat_lngs:\n",
    "    city = citipy.nearest_city(lat_lng[0], lat_lng[1]).city_name\n",
    "    \n",
    "    # If the city is unique, then add it to a our cities list\n",
    "    if city not in cities:\n",
    "        cities.append(city)\n",
    "\n",
    "# Print the city count to confirm sufficient count\n",
    "len(cities)"
   ]
  },
  {
   "cell_type": "markdown",
   "metadata": {},
   "source": [
    "### Perform API Calls\n",
    "* Perform a weather check on each city using a series of successive API calls.\n",
    "* Include a print log of each city as it'sbeing processed (with the city number and city name).\n"
   ]
  },
  {
   "cell_type": "code",
   "execution_count": 3,
   "metadata": {
    "scrolled": true
   },
   "outputs": [
    {
     "name": "stdout",
     "output_type": "stream",
     "text": [
      "1. port-gentil: Processing: \n",
      "overcast clouds\n",
      "2. chagda: Processing: \n",
      "city not in database\n",
      "3. tuatapere: Processing: \n",
      "light rain\n",
      "4. kruisfontein: Processing: \n",
      "clear sky\n",
      "5. tumannyy: Processing: \n",
      "city not in database\n",
      "6. rikitea: Processing: \n",
      "broken clouds\n",
      "7. belushya guba: Processing: \n",
      "city not in database\n",
      "8. butaritari: Processing: \n",
      "broken clouds\n",
      "9. norman wells: Processing: \n",
      "broken clouds\n",
      "10. nioro: Processing: \n",
      "overcast clouds\n",
      "11. campbellsville: Processing: \n",
      "clear sky\n",
      "12. qaanaaq: Processing: \n",
      "clear sky\n",
      "13. nurmijarvi: Processing: \n",
      "shower rain\n",
      "14. mahebourg: Processing: \n",
      "broken clouds\n",
      "15. lebu: Processing: \n",
      "scattered clouds\n",
      "16. tuktoyaktuk: Processing: \n",
      "overcast clouds\n",
      "17. souillac: Processing: \n",
      "broken clouds\n",
      "18. hithadhoo: Processing: \n",
      "broken clouds\n",
      "19. kapaa: Processing: \n",
      "few clouds\n",
      "20. east london: Processing: \n",
      "clear sky\n",
      "21. ancud: Processing: \n",
      "overcast clouds\n",
      "22. tasiilaq: Processing: \n",
      "fog\n",
      "23. taolanaro: Processing: \n",
      "city not in database\n",
      "24. new norfolk: Processing: \n",
      "overcast clouds\n",
      "25. puerto ayacucho: Processing: \n",
      "light rain\n",
      "26. maua: Processing: \n",
      "clear sky\n",
      "27. mataura: Processing: \n",
      "light rain\n",
      "28. harper: Processing: \n",
      "light rain\n",
      "29. karakendzha: Processing: \n",
      "city not in database\n",
      "30. grand river south east: Processing: \n",
      "city not in database\n",
      "31. punta arenas: Processing: \n",
      "clear sky\n",
      "32. lavrentiya: Processing: \n",
      "clear sky\n",
      "33. awjilah: Processing: \n",
      "clear sky\n",
      "34. biak: Processing: \n",
      "light rain\n",
      "35. vaini: Processing: \n",
      "few clouds\n",
      "36. saskylakh: Processing: \n",
      "light rain\n",
      "37. morant bay: Processing: \n",
      "few clouds\n",
      "38. turan: Processing: \n",
      "few clouds\n",
      "39. college: Processing: \n",
      "overcast clouds\n",
      "40. vardo: Processing: \n",
      "few clouds\n",
      "41. sentyabrskiy: Processing: \n",
      "city not in database\n",
      "42. ushuaia: Processing: \n",
      "clear sky\n",
      "43. hasaki: Processing: \n",
      "light intensity shower rain\n",
      "44. oranjemund: Processing: \n",
      "clear sky\n",
      "45. busselton: Processing: \n",
      "overcast clouds\n",
      "46. teguise: Processing: \n",
      "scattered clouds\n",
      "47. dondo: Processing: \n",
      "broken clouds\n",
      "48. labuhan: Processing: \n",
      "broken clouds\n",
      "49. chuy: Processing: \n",
      "overcast clouds\n",
      "50. salalah: Processing: \n",
      "haze\n",
      "51. lufilufi: Processing: \n",
      "light rain\n",
      "52. mys shmidta: Processing: \n",
      "city not in database\n",
      "53. meckenbeuren: Processing: \n",
      "few clouds\n",
      "54. constitucion: Processing: \n",
      "clear sky\n",
      "55. dikson: Processing: \n",
      "few clouds\n",
      "56. arman: Processing: \n",
      "few clouds\n",
      "57. amapa: Processing: \n",
      "overcast clouds\n",
      "58. ertil: Processing: \n",
      "light rain\n",
      "59. codrington: Processing: \n",
      "light rain\n",
      "60. ribeira grande: Processing: \n",
      "broken clouds\n",
      "61. barcelos: Processing: \n",
      "clear sky\n",
      "62. basco: Processing: \n",
      "clear sky\n",
      "63. upernavik: Processing: \n",
      "clear sky\n",
      "64. vostok: Processing: \n",
      "scattered clouds\n",
      "65. ahipara: Processing: \n",
      "broken clouds\n",
      "66. george town: Processing: \n",
      "thunderstorm\n",
      "67. khatanga: Processing: \n",
      "overcast clouds\n",
      "68. sola: Processing: \n",
      "few clouds\n",
      "69. bokspits: Processing: \n",
      "city not in database\n",
      "70. amderma: Processing: \n",
      "city not in database\n",
      "71. thompson: Processing: \n",
      "few clouds\n",
      "72. cape town: Processing: \n",
      "clear sky\n",
      "73. praia: Processing: \n",
      "broken clouds\n",
      "74. biryusinsk: Processing: \n",
      "clear sky\n",
      "75. husavik: Processing: \n",
      "broken clouds\n",
      "76. aklavik: Processing: \n",
      "overcast clouds\n",
      "77. chokurdakh: Processing: \n",
      "scattered clouds\n",
      "78. colima: Processing: \n",
      "overcast clouds\n",
      "79. cherskiy: Processing: \n",
      "broken clouds\n",
      "80. shasta lake: Processing: \n",
      "few clouds\n",
      "81. kem: Processing: \n",
      "overcast clouds\n",
      "82. albany: Processing: \n",
      "light rain\n",
      "83. avarua: Processing: \n",
      "light rain\n",
      "84. airai: Processing: \n",
      "scattered clouds\n",
      "85. rorvik: Processing: \n",
      "shower rain\n",
      "86. bluff: Processing: \n",
      "light rain\n",
      "87. druzhba: Processing: \n",
      "few clouds\n",
      "88. tsihombe: Processing: \n",
      "city not in database\n",
      "89. magadan: Processing: \n",
      "clear sky\n",
      "90. san francisco: Processing: \n",
      "light rain\n",
      "91. mount gambier: Processing: \n",
      "overcast clouds\n",
      "92. sao filipe: Processing: \n",
      "light rain\n",
      "93. iqaluit: Processing: \n",
      "light rain\n",
      "94. nelson bay: Processing: \n",
      "overcast clouds\n",
      "95. vanimo: Processing: \n",
      "clear sky\n",
      "96. touros: Processing: \n",
      "few clouds\n",
      "97. blacksburg: Processing: \n",
      "mist\n",
      "98. westport: Processing: \n",
      "light rain\n",
      "99. esperance: Processing: \n",
      "clear sky\n",
      "100. longyearbyen: Processing: \n",
      "shower rain\n",
      "101. faanui: Processing: \n",
      "scattered clouds\n",
      "102. katsuura: Processing: \n",
      "broken clouds\n",
      "103. lima: Processing: \n",
      "overcast clouds\n",
      "104. cockburn town: Processing: \n",
      "clear sky\n",
      "105. bermeo: Processing: \n",
      "few clouds\n",
      "106. kisangani: Processing: \n",
      "light rain\n",
      "107. janakpur: Processing: \n",
      "light rain\n",
      "108. cojumatlan: Processing: \n",
      "city not in database\n",
      "109. arraial do cabo: Processing: \n",
      "few clouds\n",
      "110. atuona: Processing: \n",
      "clear sky\n",
      "111. samusu: Processing: \n",
      "city not in database\n",
      "112. victoria: Processing: \n",
      "scattered clouds\n"
     ]
    }
   ],
   "source": [
    "url = \"http://api.openweathermap.org/data/2.5/weather?\"\n",
    "units = \"imperial\"\n",
    "query_url = f\"{url}appid={weather_api_key}&units={units}&q=\"\n",
    "num = 0\n",
    "weathers = []\n",
    "for city in cities:\n",
    "    num = num + 1\n",
    "    try:\n",
    "        print(f\"{num}. {city}: Processing: \")\n",
    "        query = query_url+city\n",
    "        response = requests.get(query).json()\n",
    "        weathers.append(response[\"weather\"][0][\"description\"])\n",
    "        print(response[\"weather\"][0][\"description\"])\n",
    "    except KeyError:\n",
    "        weathers.append(\"city not in database\")\n",
    "        print(\"city not in database\")"
   ]
  },
  {
   "cell_type": "markdown",
   "metadata": {},
   "source": [
    "### Convert Raw Data to DataFrame\n",
    "* Export the city data into a .csv.\n",
    "* Display the DataFrame"
   ]
  },
  {
   "cell_type": "code",
   "execution_count": 23,
   "metadata": {},
   "outputs": [],
   "source": [
    "lat = []\n",
    "long = []\n",
    "max_temp = []\n",
    "humidity = []\n",
    "cloud = []\n",
    "wind = []\n",
    "city_country = []\n",
    "date_time = []\n",
    "for city in cities:\n",
    "    try:\n",
    "        query = query_url+city\n",
    "        response = requests.get(query).json()\n",
    "        lat.append(response[\"coord\"][\"lat\"])\n",
    "        long.append(response[\"coord\"][\"lon\"])\n",
    "        max_temp.append(response[\"main\"][\"temp_max\"])\n",
    "        humidity.append(response[\"main\"][\"humidity\"])\n",
    "        cloud.append(response[\"clouds\"][\"all\"])\n",
    "        wind.append(response[\"wind\"][\"speed\"])\n",
    "        city_country.append(response[\"sys\"][\"country\"])\n",
    "        date_time.append(response[\"timezone\"])\n",
    "    except KeyError:\n",
    "        pass"
   ]
  },
  {
   "cell_type": "code",
   "execution_count": 24,
   "metadata": {},
   "outputs": [
    {
     "data": {
      "text/html": [
       "<div>\n",
       "<style scoped>\n",
       "    .dataframe tbody tr th:only-of-type {\n",
       "        vertical-align: middle;\n",
       "    }\n",
       "\n",
       "    .dataframe tbody tr th {\n",
       "        vertical-align: top;\n",
       "    }\n",
       "\n",
       "    .dataframe thead th {\n",
       "        text-align: right;\n",
       "    }\n",
       "</style>\n",
       "<table border=\"1\" class=\"dataframe\">\n",
       "  <thead>\n",
       "    <tr style=\"text-align: right;\">\n",
       "      <th></th>\n",
       "      <th>latitude</th>\n",
       "      <th>longitude</th>\n",
       "      <th>max temp</th>\n",
       "      <th>humidity</th>\n",
       "      <th>clouds</th>\n",
       "      <th>wind speed</th>\n",
       "      <th>country</th>\n",
       "      <th>timezone</th>\n",
       "    </tr>\n",
       "  </thead>\n",
       "  <tbody>\n",
       "    <tr>\n",
       "      <th>0</th>\n",
       "      <td>-0.72</td>\n",
       "      <td>8.78</td>\n",
       "      <td>82.40</td>\n",
       "      <td>69</td>\n",
       "      <td>20</td>\n",
       "      <td>10.56</td>\n",
       "      <td>GA</td>\n",
       "      <td>3600</td>\n",
       "    </tr>\n",
       "    <tr>\n",
       "      <th>1</th>\n",
       "      <td>-46.13</td>\n",
       "      <td>167.68</td>\n",
       "      <td>42.13</td>\n",
       "      <td>80</td>\n",
       "      <td>77</td>\n",
       "      <td>16.89</td>\n",
       "      <td>NZ</td>\n",
       "      <td>43200</td>\n",
       "    </tr>\n",
       "    <tr>\n",
       "      <th>2</th>\n",
       "      <td>-34.00</td>\n",
       "      <td>24.73</td>\n",
       "      <td>68.23</td>\n",
       "      <td>36</td>\n",
       "      <td>0</td>\n",
       "      <td>4.56</td>\n",
       "      <td>ZA</td>\n",
       "      <td>7200</td>\n",
       "    </tr>\n",
       "    <tr>\n",
       "      <th>3</th>\n",
       "      <td>-23.12</td>\n",
       "      <td>-134.97</td>\n",
       "      <td>66.58</td>\n",
       "      <td>64</td>\n",
       "      <td>52</td>\n",
       "      <td>16.26</td>\n",
       "      <td>PF</td>\n",
       "      <td>-32400</td>\n",
       "    </tr>\n",
       "    <tr>\n",
       "      <th>4</th>\n",
       "      <td>3.07</td>\n",
       "      <td>172.79</td>\n",
       "      <td>83.10</td>\n",
       "      <td>79</td>\n",
       "      <td>64</td>\n",
       "      <td>15.39</td>\n",
       "      <td>KI</td>\n",
       "      <td>43200</td>\n",
       "    </tr>\n",
       "    <tr>\n",
       "      <th>...</th>\n",
       "      <td>...</td>\n",
       "      <td>...</td>\n",
       "      <td>...</td>\n",
       "      <td>...</td>\n",
       "      <td>...</td>\n",
       "      <td>...</td>\n",
       "      <td>...</td>\n",
       "      <td>...</td>\n",
       "    </tr>\n",
       "    <tr>\n",
       "      <th>94</th>\n",
       "      <td>0.52</td>\n",
       "      <td>25.20</td>\n",
       "      <td>79.32</td>\n",
       "      <td>75</td>\n",
       "      <td>100</td>\n",
       "      <td>0.38</td>\n",
       "      <td>CD</td>\n",
       "      <td>7200</td>\n",
       "    </tr>\n",
       "    <tr>\n",
       "      <th>95</th>\n",
       "      <td>26.72</td>\n",
       "      <td>85.91</td>\n",
       "      <td>91.83</td>\n",
       "      <td>58</td>\n",
       "      <td>24</td>\n",
       "      <td>4.05</td>\n",
       "      <td>NP</td>\n",
       "      <td>20700</td>\n",
       "    </tr>\n",
       "    <tr>\n",
       "      <th>96</th>\n",
       "      <td>-22.97</td>\n",
       "      <td>-42.03</td>\n",
       "      <td>66.20</td>\n",
       "      <td>93</td>\n",
       "      <td>20</td>\n",
       "      <td>2.24</td>\n",
       "      <td>BR</td>\n",
       "      <td>-10800</td>\n",
       "    </tr>\n",
       "    <tr>\n",
       "      <th>97</th>\n",
       "      <td>-9.80</td>\n",
       "      <td>-139.03</td>\n",
       "      <td>79.39</td>\n",
       "      <td>77</td>\n",
       "      <td>2</td>\n",
       "      <td>20.45</td>\n",
       "      <td>PF</td>\n",
       "      <td>-34200</td>\n",
       "    </tr>\n",
       "    <tr>\n",
       "      <th>98</th>\n",
       "      <td>22.29</td>\n",
       "      <td>114.16</td>\n",
       "      <td>89.01</td>\n",
       "      <td>62</td>\n",
       "      <td>34</td>\n",
       "      <td>11.99</td>\n",
       "      <td>HK</td>\n",
       "      <td>28800</td>\n",
       "    </tr>\n",
       "  </tbody>\n",
       "</table>\n",
       "<p>99 rows × 8 columns</p>\n",
       "</div>"
      ],
      "text/plain": [
       "    latitude  longitude  max temp  humidity  clouds  wind speed country  \\\n",
       "0      -0.72       8.78     82.40        69      20       10.56      GA   \n",
       "1     -46.13     167.68     42.13        80      77       16.89      NZ   \n",
       "2     -34.00      24.73     68.23        36       0        4.56      ZA   \n",
       "3     -23.12    -134.97     66.58        64      52       16.26      PF   \n",
       "4       3.07     172.79     83.10        79      64       15.39      KI   \n",
       "..       ...        ...       ...       ...     ...         ...     ...   \n",
       "94      0.52      25.20     79.32        75     100        0.38      CD   \n",
       "95     26.72      85.91     91.83        58      24        4.05      NP   \n",
       "96    -22.97     -42.03     66.20        93      20        2.24      BR   \n",
       "97     -9.80    -139.03     79.39        77       2       20.45      PF   \n",
       "98     22.29     114.16     89.01        62      34       11.99      HK   \n",
       "\n",
       "    timezone  \n",
       "0       3600  \n",
       "1      43200  \n",
       "2       7200  \n",
       "3     -32400  \n",
       "4      43200  \n",
       "..       ...  \n",
       "94      7200  \n",
       "95     20700  \n",
       "96    -10800  \n",
       "97    -34200  \n",
       "98     28800  \n",
       "\n",
       "[99 rows x 8 columns]"
      ]
     },
     "execution_count": 24,
     "metadata": {},
     "output_type": "execute_result"
    }
   ],
   "source": [
    "weather_data = pd.DataFrame(long, lat, columns = [\"longitude\"])\n",
    "weather_data = weather_data.reset_index()\n",
    "weather_data = weather_data.rename(columns = {\"index\":\"latitude\"})\n",
    "weather_data[\"max temp\"] = max_temp\n",
    "weather_data[\"humidity\"] = humidity\n",
    "weather_data[\"clouds\"] = cloud\n",
    "weather_data[\"wind speed\"] = wind\n",
    "weather_data[\"country\"] = city_country\n",
    "weather_data[\"timezone\"] = date_time\n",
    "weather_data"
   ]
  },
  {
   "cell_type": "code",
   "execution_count": 25,
   "metadata": {
    "scrolled": true
   },
   "outputs": [
    {
     "data": {
      "text/plain": [
       "'latitude,longitude,max temp,humidity,clouds,wind speed,country,timezone\\r\\n-0.72,8.78,82.4,69,20,10.56,GA,3600\\r\\n-46.13,167.68,42.13,80,77,16.89,NZ,43200\\r\\n-34.0,24.73,68.23,36,0,4.56,ZA,7200\\r\\n-23.12,-134.97,66.58,64,52,16.26,PF,-32400\\r\\n3.07,172.79,83.1,79,64,15.39,KI,43200\\r\\n65.28,-126.83,46.4,100,75,1.07,CA,-21600\\r\\n13.35,-15.75,79.57,82,96,6.06,GM,0\\r\\n37.34,-85.34,71.6,100,75,3.36,US,-14400\\r\\n77.48,-69.36,44.22,59,0,6.29,GL,-10800\\r\\n60.46,24.81,66.99,67,20,12.75,FI,10800\\r\\n-20.41,57.7,71.6,56,75,13.87,MU,14400\\r\\n-37.62,-73.65,46.8,82,50,8.5,CL,-14400\\r\\n69.45,-133.04,39.56,86,100,7.56,CA,-21600\\r\\n-20.52,57.52,71.6,56,75,13.87,MU,14400\\r\\n-0.6,73.08,85.1,67,79,6.22,MV,18000\\r\\n22.08,-159.32,75.2,83,20,9.17,US,-36000\\r\\n-33.02,27.91,75.2,27,0,10.29,ZA,7200\\r\\n-41.87,-73.82,45.0,93,100,4.7,CL,-14400\\r\\n65.61,-37.64,41.0,93,75,6.93,GL,-7200\\r\\n-42.78,147.06,46.99,83,94,1.01,AU,36000\\r\\n5.66,-67.62,72.91,94,100,3.87,VE,-14400\\r\\n-23.67,-46.46,61.0,77,2,2.24,BR,-10800\\r\\n-46.19,168.86,41.63,88,87,10.85,NZ,43200\\r\\n4.38,-7.72,77.36,86,100,10.69,LR,0\\r\\n-53.15,-70.92,15.8,92,0,8.05,CL,-10800\\r\\n65.58,-171.0,43.39,82,0,5.7,RU,43200\\r\\n29.11,21.29,89.13,28,0,10.16,LY,7200\\r\\n-0.91,122.88,78.1,83,51,7.61,ID,28800\\r\\n-21.2,-175.2,62.6,93,20,3.36,TO,46800\\r\\n71.92,114.08,47.75,91,100,19.22,RU,32400\\r\\n17.88,-76.41,82.4,74,20,4.7,JM,-18000\\r\\n16.07,108.22,86.0,79,20,8.05,VN,25200\\r\\n64.86,-147.8,53.6,81,90,3.71,US,-28800\\r\\n70.37,31.11,55.4,82,20,25.28,NO,7200\\r\\n-54.8,-68.3,30.2,86,7,5.82,AR,-10800\\r\\n35.73,140.83,80.01,100,75,4.7,JP,32400\\r\\n-28.55,16.43,72.03,25,0,5.88,NA,7200\\r\\n-33.65,115.33,64.0,59,94,20.15,AU,28800\\r\\n29.06,-13.56,75.2,73,20,18.34,ES,3600\\r\\n-19.61,34.74,73.36,53,74,7.92,MZ,7200\\r\\n-6.88,112.21,83.25,72,56,10.25,ID,25200\\r\\n-33.7,-53.46,62.44,96,100,3.18,UY,-10800\\r\\n17.02,54.09,82.4,88,90,13.87,OM,14400\\r\\n-13.87,-171.6,80.01,94,100,15.08,WS,46800\\r\\n47.7,9.57,77.0,68,20,2.24,DE,7200\\r\\n-35.33,-72.42,47.03,84,0,6.51,CL,-14400\\r\\n73.51,80.55,41.56,92,20,7.27,RU,25200\\r\\n59.7,150.17,56.86,76,12,4.74,RU,39600\\r\\n1.0,-52.0,71.37,97,100,0.96,BR,-10800\\r\\n51.84,40.81,77.11,53,61,10.54,RU,10800\\r\\n-38.27,141.97,49.3,81,100,7.29,AU,36000\\r\\n38.52,-28.7,69.8,77,75,4.7,PT,0\\r\\n41.54,-8.62,84.99,65,0,5.82,PT,3600\\r\\n20.45,121.97,85.55,79,7,11.88,PH,28800\\r\\n72.79,-56.15,49.06,64,1,6.71,GL,-7200\\r\\n46.49,135.88,68.41,81,36,2.98,RU,36000\\r\\n-35.17,173.17,54.46,71,67,17.11,NZ,43200\\r\\n5.41,100.34,84.2,79,20,8.05,MY,28800\\r\\n71.97,102.5,61.38,54,98,15.82,RU,25200\\r\\n-13.88,167.55,78.8,74,20,4.7,VU,39600\\r\\n55.74,-97.86,51.8,87,20,4.38,CA,-18000\\r\\n-33.93,18.42,66.99,93,0,3.36,ZA,7200\\r\\n14.92,-23.51,78.8,83,75,6.93,CV,-3600\\r\\n55.96,97.82,71.13,58,8,10.27,RU,28800\\r\\n66.04,-17.34,50.0,81,75,9.17,IS,0\\r\\n68.22,-135.01,39.2,93,90,4.7,CA,-21600\\r\\n70.63,147.92,82.38,42,41,5.06,RU,39600\\r\\n19.17,-104.0,68.13,100,88,1.83,MX,-18000\\r\\n68.75,161.3,71.82,39,68,8.55,RU,39600\\r\\n40.68,-122.37,73.99,62,13,2.01,US,-25200\\r\\n64.96,34.58,64.04,78,89,14.25,RU,10800\\r\\n42.6,-73.97,69.01,81,95,3.56,US,-14400\\r\\n-21.21,-159.78,75.2,94,15,11.41,CK,-36000\\r\\n-8.93,125.41,57.22,99,32,3.29,TL,32400\\r\\n64.86,11.24,53.6,76,40,10.29,NO,7200\\r\\n-46.6,168.33,45.3,73,80,32.84,NZ,43200\\r\\n52.04,33.95,66.61,61,23,16.55,UA,10800\\r\\n59.57,150.8,56.71,74,1,4.61,RU,39600\\r\\n37.77,-122.42,59.0,82,90,6.93,US,-25200\\r\\n-37.83,140.77,48.2,76,90,5.82,AU,34200\\r\\n14.9,-24.5,77.36,82,99,6.22,CV,-3600\\r\\n63.75,-68.51,46.4,81,90,5.82,CA,-14400\\r\\n-32.72,152.15,52.0,93,93,3.18,AU,36000\\r\\n-2.67,141.3,80.15,83,7,6.69,PG,36000\\r\\n-5.2,-35.46,68.0,94,20,4.7,BR,-10800\\r\\n37.23,-80.41,68.0,100,75,2.26,US,-14400\\r\\n41.14,-73.36,75.99,83,75,3.36,US,-14400\\r\\n-33.87,121.9,60.8,67,0,10.29,AU,28800\\r\\n78.22,15.64,50.0,76,75,12.75,SJ,7200\\r\\n-16.48,-151.75,76.5,80,44,22.37,PF,-36000\\r\\n35.13,140.3,80.01,82,77,1.99,JP,32400\\r\\n-12.04,-77.03,60.8,82,90,3.36,PE,-18000\\r\\n21.46,-71.14,83.07,77,2,18.5,TC,-14400\\r\\n43.42,-2.72,77.0,78,20,1.12,ES,7200\\r\\n0.52,25.2,79.32,75,100,0.38,CD,7200\\r\\n26.72,85.91,91.83,58,24,4.05,NP,20700\\r\\n-22.97,-42.03,66.2,93,20,2.24,BR,-10800\\r\\n-9.8,-139.03,79.39,77,2,20.45,PF,-34200\\r\\n22.29,114.16,89.01,62,34,11.99,HK,28800\\r\\n'"
      ]
     },
     "execution_count": 25,
     "metadata": {},
     "output_type": "execute_result"
    }
   ],
   "source": [
    "weather_data.to_csv(index = False)"
   ]
  },
  {
   "cell_type": "markdown",
   "metadata": {},
   "source": [
    "## Inspect the data and remove the cities where the humidity > 100%.\n",
    "----\n",
    "Skip this step if there are no cities that have humidity > 100%. "
   ]
  },
  {
   "cell_type": "code",
   "execution_count": null,
   "metadata": {},
   "outputs": [],
   "source": []
  },
  {
   "cell_type": "code",
   "execution_count": 26,
   "metadata": {
    "scrolled": true
   },
   "outputs": [
    {
     "data": {
      "text/plain": [
       "[]"
      ]
     },
     "execution_count": 26,
     "metadata": {},
     "output_type": "execute_result"
    }
   ],
   "source": [
    "#  Get the indices of cities that have humidity over 100%.\n",
    "humid = []\n",
    "ind = 0\n",
    "for city in cities:\n",
    "    try:\n",
    "        query = query_url+city\n",
    "        response = requests.get(query).json()\n",
    "        if response[\"main\"][\"humidity\"] > 100:\n",
    "            no_humid.append(ind)\n",
    "        ind = ind + 1\n",
    "    except KeyError:\n",
    "        pass\n",
    "humid"
   ]
  },
  {
   "cell_type": "code",
   "execution_count": 27,
   "metadata": {},
   "outputs": [],
   "source": [
    "# Make a new DataFrame equal to the city data to drop all humidity outliers by index.\n",
    "# Passing \"inplace=False\" will make a copy of the city_data DataFrame, which we call \"clean_city_data\".\n",
    "\n",
    "\n",
    "#No Humid Values over 100"
   ]
  },
  {
   "cell_type": "code",
   "execution_count": 28,
   "metadata": {},
   "outputs": [],
   "source": [
    "# Extract relevant fields from the data frame\n",
    "\n",
    "# Export the City_Data into a csv\n",
    "\n",
    "\n",
    "#No Humid Values over 100"
   ]
  },
  {
   "cell_type": "markdown",
   "metadata": {},
   "source": [
    "## Plotting the Data\n",
    "* Use proper labeling of the plots using plot titles (including date of analysis) and axes labels.\n",
    "* Save the plotted figures as .pngs."
   ]
  },
  {
   "cell_type": "markdown",
   "metadata": {},
   "source": [
    "## Latitude vs. Temperature Plot"
   ]
  },
  {
   "cell_type": "code",
   "execution_count": 29,
   "metadata": {
    "scrolled": true
   },
   "outputs": [
    {
     "data": {
      "image/png": "[encoded data removed]",
      "text/plain": [
       "<Figure size 432x288 with 1 Axes>"
      ]
     },
     "metadata": {
      "needs_background": "light"
     },
     "output_type": "display_data"
    }
   ],
   "source": [
    "plt.scatter(weather_data[\"latitude\"], weather_data[\"max temp\"])\n",
    "plt.title(\"Max temp vs Latitude\")\n",
    "plt.xlabel(\"Latitude\")\n",
    "plt.ylabel(\"Max Temp\")\n",
    "plt.savefig(\"lat_vs_temp.png\")"
   ]
  },
  {
   "cell_type": "code",
   "execution_count": null,
   "metadata": {},
   "outputs": [],
   "source": [
    "# As latitude approaches 0, the max temp rises. This makes sense, given that the equator is the most pronounced \n",
    "#towards to sun"
   ]
  },
  {
   "cell_type": "markdown",
   "metadata": {},
   "source": [
    "## Latitude vs. Humidity Plot"
   ]
  },
  {
   "cell_type": "code",
   "execution_count": 30,
   "metadata": {},
   "outputs": [
    {
     "data": {
      "image/png": "[encoded data removed]",
      "text/plain": [
       "<Figure size 432x288 with 1 Axes>"
      ]
     },
     "metadata": {
      "needs_background": "light"
     },
     "output_type": "display_data"
    }
   ],
   "source": [
    "plt.scatter(weather_data[\"latitude\"], weather_data[\"humidity\"])\n",
    "plt.title(\"Humidity vs Latitude\")\n",
    "plt.xlabel(\"Latitude\")\n",
    "plt.ylabel(\"Humidity\")\n",
    "plt.savefig(\"lat_vs_humidity.png\")"
   ]
  },
  {
   "cell_type": "code",
   "execution_count": null,
   "metadata": {},
   "outputs": [],
   "source": [
    "#No clear relationship between humidity and latitude"
   ]
  },
  {
   "cell_type": "markdown",
   "metadata": {},
   "source": [
    "## Latitude vs. Cloudiness Plot"
   ]
  },
  {
   "cell_type": "code",
   "execution_count": 31,
   "metadata": {},
   "outputs": [
    {
     "data": {
      "image/png": "[encoded data removed]",
      "text/plain": [
       "<Figure size 432x288 with 1 Axes>"
      ]
     },
     "metadata": {
      "needs_background": "light"
     },
     "output_type": "display_data"
    }
   ],
   "source": [
    "plt.scatter(weather_data[\"latitude\"], weather_data[\"clouds\"])\n",
    "plt.title(\"Cloudiness vs Latitude\")\n",
    "plt.xlabel(\"Latitude\")\n",
    "plt.ylabel(\"Cloud Denisty\")\n",
    "plt.savefig(\"lat_vs_cloud.png\")"
   ]
  },
  {
   "cell_type": "code",
   "execution_count": null,
   "metadata": {},
   "outputs": [],
   "source": [
    "# No clear relationship, although noticeable skew of values toward poles, i.e. the 0 and 100 % cloudiness"
   ]
  },
  {
   "cell_type": "markdown",
   "metadata": {},
   "source": [
    "## Latitude vs. Wind Speed Plot"
   ]
  },
  {
   "cell_type": "code",
   "execution_count": 32,
   "metadata": {},
   "outputs": [
    {
     "data": {
      "image/png": "[encoded data removed]",
      "text/plain": [
       "<Figure size 432x288 with 1 Axes>"
      ]
     },
     "metadata": {
      "needs_background": "light"
     },
     "output_type": "display_data"
    }
   ],
   "source": [
    "plt.scatter(weather_data[\"latitude\"], weather_data[\"wind speed\"])\n",
    "plt.title(\"Wind Speed vs Latitude\")\n",
    "plt.xlabel(\"Latitude\")\n",
    "plt.ylabel(\"Wind Speed\")\n",
    "plt.savefig(\"lat_vs_wind.png\")"
   ]
  },
  {
   "cell_type": "code",
   "execution_count": null,
   "metadata": {},
   "outputs": [],
   "source": [
    "#no clear realtionship, although wind speed seems skewed towards lower/0 speed"
   ]
  },
  {
   "cell_type": "markdown",
   "metadata": {},
   "source": [
    "## Linear Regression"
   ]
  },
  {
   "cell_type": "code",
   "execution_count": null,
   "metadata": {},
   "outputs": [],
   "source": [
    "# OPTIONAL: Create a function to create Linear Regression plots\n"
   ]
  },
  {
   "cell_type": "code",
   "execution_count": 36,
   "metadata": {
    "scrolled": true
   },
   "outputs": [
    {
     "data": {
      "text/html": [
       "<div>\n",
       "<style scoped>\n",
       "    .dataframe tbody tr th:only-of-type {\n",
       "        vertical-align: middle;\n",
       "    }\n",
       "\n",
       "    .dataframe tbody tr th {\n",
       "        vertical-align: top;\n",
       "    }\n",
       "\n",
       "    .dataframe thead th {\n",
       "        text-align: right;\n",
       "    }\n",
       "</style>\n",
       "<table border=\"1\" class=\"dataframe\">\n",
       "  <thead>\n",
       "    <tr style=\"text-align: right;\">\n",
       "      <th></th>\n",
       "      <th>latitude</th>\n",
       "      <th>longitude</th>\n",
       "      <th>max temp</th>\n",
       "      <th>humidity</th>\n",
       "      <th>clouds</th>\n",
       "      <th>wind speed</th>\n",
       "      <th>country</th>\n",
       "      <th>timezone</th>\n",
       "    </tr>\n",
       "  </thead>\n",
       "  <tbody>\n",
       "    <tr>\n",
       "      <th>4</th>\n",
       "      <td>3.07</td>\n",
       "      <td>172.79</td>\n",
       "      <td>83.10</td>\n",
       "      <td>79</td>\n",
       "      <td>64</td>\n",
       "      <td>15.39</td>\n",
       "      <td>KI</td>\n",
       "      <td>43200</td>\n",
       "    </tr>\n",
       "    <tr>\n",
       "      <th>5</th>\n",
       "      <td>65.28</td>\n",
       "      <td>-126.83</td>\n",
       "      <td>46.40</td>\n",
       "      <td>100</td>\n",
       "      <td>75</td>\n",
       "      <td>1.07</td>\n",
       "      <td>CA</td>\n",
       "      <td>-21600</td>\n",
       "    </tr>\n",
       "    <tr>\n",
       "      <th>6</th>\n",
       "      <td>13.35</td>\n",
       "      <td>-15.75</td>\n",
       "      <td>79.57</td>\n",
       "      <td>82</td>\n",
       "      <td>96</td>\n",
       "      <td>6.06</td>\n",
       "      <td>GM</td>\n",
       "      <td>0</td>\n",
       "    </tr>\n",
       "    <tr>\n",
       "      <th>7</th>\n",
       "      <td>37.34</td>\n",
       "      <td>-85.34</td>\n",
       "      <td>71.60</td>\n",
       "      <td>100</td>\n",
       "      <td>75</td>\n",
       "      <td>3.36</td>\n",
       "      <td>US</td>\n",
       "      <td>-14400</td>\n",
       "    </tr>\n",
       "    <tr>\n",
       "      <th>8</th>\n",
       "      <td>77.48</td>\n",
       "      <td>-69.36</td>\n",
       "      <td>44.22</td>\n",
       "      <td>59</td>\n",
       "      <td>0</td>\n",
       "      <td>6.29</td>\n",
       "      <td>GL</td>\n",
       "      <td>-10800</td>\n",
       "    </tr>\n",
       "    <tr>\n",
       "      <th>9</th>\n",
       "      <td>60.46</td>\n",
       "      <td>24.81</td>\n",
       "      <td>66.99</td>\n",
       "      <td>67</td>\n",
       "      <td>20</td>\n",
       "      <td>12.75</td>\n",
       "      <td>FI</td>\n",
       "      <td>10800</td>\n",
       "    </tr>\n",
       "    <tr>\n",
       "      <th>12</th>\n",
       "      <td>69.45</td>\n",
       "      <td>-133.04</td>\n",
       "      <td>39.56</td>\n",
       "      <td>86</td>\n",
       "      <td>100</td>\n",
       "      <td>7.56</td>\n",
       "      <td>CA</td>\n",
       "      <td>-21600</td>\n",
       "    </tr>\n",
       "    <tr>\n",
       "      <th>15</th>\n",
       "      <td>22.08</td>\n",
       "      <td>-159.32</td>\n",
       "      <td>75.20</td>\n",
       "      <td>83</td>\n",
       "      <td>20</td>\n",
       "      <td>9.17</td>\n",
       "      <td>US</td>\n",
       "      <td>-36000</td>\n",
       "    </tr>\n",
       "    <tr>\n",
       "      <th>18</th>\n",
       "      <td>65.61</td>\n",
       "      <td>-37.64</td>\n",
       "      <td>41.00</td>\n",
       "      <td>93</td>\n",
       "      <td>75</td>\n",
       "      <td>6.93</td>\n",
       "      <td>GL</td>\n",
       "      <td>-7200</td>\n",
       "    </tr>\n",
       "    <tr>\n",
       "      <th>20</th>\n",
       "      <td>5.66</td>\n",
       "      <td>-67.62</td>\n",
       "      <td>72.91</td>\n",
       "      <td>94</td>\n",
       "      <td>100</td>\n",
       "      <td>3.87</td>\n",
       "      <td>VE</td>\n",
       "      <td>-14400</td>\n",
       "    </tr>\n",
       "    <tr>\n",
       "      <th>23</th>\n",
       "      <td>4.38</td>\n",
       "      <td>-7.72</td>\n",
       "      <td>77.36</td>\n",
       "      <td>86</td>\n",
       "      <td>100</td>\n",
       "      <td>10.69</td>\n",
       "      <td>LR</td>\n",
       "      <td>0</td>\n",
       "    </tr>\n",
       "    <tr>\n",
       "      <th>25</th>\n",
       "      <td>65.58</td>\n",
       "      <td>-171.00</td>\n",
       "      <td>43.39</td>\n",
       "      <td>82</td>\n",
       "      <td>0</td>\n",
       "      <td>5.70</td>\n",
       "      <td>RU</td>\n",
       "      <td>43200</td>\n",
       "    </tr>\n",
       "    <tr>\n",
       "      <th>26</th>\n",
       "      <td>29.11</td>\n",
       "      <td>21.29</td>\n",
       "      <td>89.13</td>\n",
       "      <td>28</td>\n",
       "      <td>0</td>\n",
       "      <td>10.16</td>\n",
       "      <td>LY</td>\n",
       "      <td>7200</td>\n",
       "    </tr>\n",
       "    <tr>\n",
       "      <th>29</th>\n",
       "      <td>71.92</td>\n",
       "      <td>114.08</td>\n",
       "      <td>47.75</td>\n",
       "      <td>91</td>\n",
       "      <td>100</td>\n",
       "      <td>19.22</td>\n",
       "      <td>RU</td>\n",
       "      <td>32400</td>\n",
       "    </tr>\n",
       "    <tr>\n",
       "      <th>30</th>\n",
       "      <td>17.88</td>\n",
       "      <td>-76.41</td>\n",
       "      <td>82.40</td>\n",
       "      <td>74</td>\n",
       "      <td>20</td>\n",
       "      <td>4.70</td>\n",
       "      <td>JM</td>\n",
       "      <td>-18000</td>\n",
       "    </tr>\n",
       "    <tr>\n",
       "      <th>31</th>\n",
       "      <td>16.07</td>\n",
       "      <td>108.22</td>\n",
       "      <td>86.00</td>\n",
       "      <td>79</td>\n",
       "      <td>20</td>\n",
       "      <td>8.05</td>\n",
       "      <td>VN</td>\n",
       "      <td>25200</td>\n",
       "    </tr>\n",
       "    <tr>\n",
       "      <th>32</th>\n",
       "      <td>64.86</td>\n",
       "      <td>-147.80</td>\n",
       "      <td>53.60</td>\n",
       "      <td>81</td>\n",
       "      <td>90</td>\n",
       "      <td>3.71</td>\n",
       "      <td>US</td>\n",
       "      <td>-28800</td>\n",
       "    </tr>\n",
       "    <tr>\n",
       "      <th>33</th>\n",
       "      <td>70.37</td>\n",
       "      <td>31.11</td>\n",
       "      <td>55.40</td>\n",
       "      <td>82</td>\n",
       "      <td>20</td>\n",
       "      <td>25.28</td>\n",
       "      <td>NO</td>\n",
       "      <td>7200</td>\n",
       "    </tr>\n",
       "    <tr>\n",
       "      <th>35</th>\n",
       "      <td>35.73</td>\n",
       "      <td>140.83</td>\n",
       "      <td>80.01</td>\n",
       "      <td>100</td>\n",
       "      <td>75</td>\n",
       "      <td>4.70</td>\n",
       "      <td>JP</td>\n",
       "      <td>32400</td>\n",
       "    </tr>\n",
       "    <tr>\n",
       "      <th>38</th>\n",
       "      <td>29.06</td>\n",
       "      <td>-13.56</td>\n",
       "      <td>75.20</td>\n",
       "      <td>73</td>\n",
       "      <td>20</td>\n",
       "      <td>18.34</td>\n",
       "      <td>ES</td>\n",
       "      <td>3600</td>\n",
       "    </tr>\n",
       "    <tr>\n",
       "      <th>42</th>\n",
       "      <td>17.02</td>\n",
       "      <td>54.09</td>\n",
       "      <td>82.40</td>\n",
       "      <td>88</td>\n",
       "      <td>90</td>\n",
       "      <td>13.87</td>\n",
       "      <td>OM</td>\n",
       "      <td>14400</td>\n",
       "    </tr>\n",
       "    <tr>\n",
       "      <th>44</th>\n",
       "      <td>47.70</td>\n",
       "      <td>9.57</td>\n",
       "      <td>77.00</td>\n",
       "      <td>68</td>\n",
       "      <td>20</td>\n",
       "      <td>2.24</td>\n",
       "      <td>DE</td>\n",
       "      <td>7200</td>\n",
       "    </tr>\n",
       "    <tr>\n",
       "      <th>46</th>\n",
       "      <td>73.51</td>\n",
       "      <td>80.55</td>\n",
       "      <td>41.56</td>\n",
       "      <td>92</td>\n",
       "      <td>20</td>\n",
       "      <td>7.27</td>\n",
       "      <td>RU</td>\n",
       "      <td>25200</td>\n",
       "    </tr>\n",
       "    <tr>\n",
       "      <th>47</th>\n",
       "      <td>59.70</td>\n",
       "      <td>150.17</td>\n",
       "      <td>56.86</td>\n",
       "      <td>76</td>\n",
       "      <td>12</td>\n",
       "      <td>4.74</td>\n",
       "      <td>RU</td>\n",
       "      <td>39600</td>\n",
       "    </tr>\n",
       "    <tr>\n",
       "      <th>48</th>\n",
       "      <td>1.00</td>\n",
       "      <td>-52.00</td>\n",
       "      <td>71.37</td>\n",
       "      <td>97</td>\n",
       "      <td>100</td>\n",
       "      <td>0.96</td>\n",
       "      <td>BR</td>\n",
       "      <td>-10800</td>\n",
       "    </tr>\n",
       "    <tr>\n",
       "      <th>49</th>\n",
       "      <td>51.84</td>\n",
       "      <td>40.81</td>\n",
       "      <td>77.11</td>\n",
       "      <td>53</td>\n",
       "      <td>61</td>\n",
       "      <td>10.54</td>\n",
       "      <td>RU</td>\n",
       "      <td>10800</td>\n",
       "    </tr>\n",
       "    <tr>\n",
       "      <th>51</th>\n",
       "      <td>38.52</td>\n",
       "      <td>-28.70</td>\n",
       "      <td>69.80</td>\n",
       "      <td>77</td>\n",
       "      <td>75</td>\n",
       "      <td>4.70</td>\n",
       "      <td>PT</td>\n",
       "      <td>0</td>\n",
       "    </tr>\n",
       "    <tr>\n",
       "      <th>52</th>\n",
       "      <td>41.54</td>\n",
       "      <td>-8.62</td>\n",
       "      <td>84.99</td>\n",
       "      <td>65</td>\n",
       "      <td>0</td>\n",
       "      <td>5.82</td>\n",
       "      <td>PT</td>\n",
       "      <td>3600</td>\n",
       "    </tr>\n",
       "    <tr>\n",
       "      <th>53</th>\n",
       "      <td>20.45</td>\n",
       "      <td>121.97</td>\n",
       "      <td>85.55</td>\n",
       "      <td>79</td>\n",
       "      <td>7</td>\n",
       "      <td>11.88</td>\n",
       "      <td>PH</td>\n",
       "      <td>28800</td>\n",
       "    </tr>\n",
       "    <tr>\n",
       "      <th>54</th>\n",
       "      <td>72.79</td>\n",
       "      <td>-56.15</td>\n",
       "      <td>49.06</td>\n",
       "      <td>64</td>\n",
       "      <td>1</td>\n",
       "      <td>6.71</td>\n",
       "      <td>GL</td>\n",
       "      <td>-7200</td>\n",
       "    </tr>\n",
       "    <tr>\n",
       "      <th>55</th>\n",
       "      <td>46.49</td>\n",
       "      <td>135.88</td>\n",
       "      <td>68.41</td>\n",
       "      <td>81</td>\n",
       "      <td>36</td>\n",
       "      <td>2.98</td>\n",
       "      <td>RU</td>\n",
       "      <td>36000</td>\n",
       "    </tr>\n",
       "    <tr>\n",
       "      <th>57</th>\n",
       "      <td>5.41</td>\n",
       "      <td>100.34</td>\n",
       "      <td>84.20</td>\n",
       "      <td>79</td>\n",
       "      <td>20</td>\n",
       "      <td>8.05</td>\n",
       "      <td>MY</td>\n",
       "      <td>28800</td>\n",
       "    </tr>\n",
       "    <tr>\n",
       "      <th>58</th>\n",
       "      <td>71.97</td>\n",
       "      <td>102.50</td>\n",
       "      <td>61.38</td>\n",
       "      <td>54</td>\n",
       "      <td>98</td>\n",
       "      <td>15.82</td>\n",
       "      <td>RU</td>\n",
       "      <td>25200</td>\n",
       "    </tr>\n",
       "    <tr>\n",
       "      <th>60</th>\n",
       "      <td>55.74</td>\n",
       "      <td>-97.86</td>\n",
       "      <td>51.80</td>\n",
       "      <td>87</td>\n",
       "      <td>20</td>\n",
       "      <td>4.38</td>\n",
       "      <td>CA</td>\n",
       "      <td>-18000</td>\n",
       "    </tr>\n",
       "    <tr>\n",
       "      <th>62</th>\n",
       "      <td>14.92</td>\n",
       "      <td>-23.51</td>\n",
       "      <td>78.80</td>\n",
       "      <td>83</td>\n",
       "      <td>75</td>\n",
       "      <td>6.93</td>\n",
       "      <td>CV</td>\n",
       "      <td>-3600</td>\n",
       "    </tr>\n",
       "    <tr>\n",
       "      <th>63</th>\n",
       "      <td>55.96</td>\n",
       "      <td>97.82</td>\n",
       "      <td>71.13</td>\n",
       "      <td>58</td>\n",
       "      <td>8</td>\n",
       "      <td>10.27</td>\n",
       "      <td>RU</td>\n",
       "      <td>28800</td>\n",
       "    </tr>\n",
       "    <tr>\n",
       "      <th>64</th>\n",
       "      <td>66.04</td>\n",
       "      <td>-17.34</td>\n",
       "      <td>50.00</td>\n",
       "      <td>81</td>\n",
       "      <td>75</td>\n",
       "      <td>9.17</td>\n",
       "      <td>IS</td>\n",
       "      <td>0</td>\n",
       "    </tr>\n",
       "    <tr>\n",
       "      <th>65</th>\n",
       "      <td>68.22</td>\n",
       "      <td>-135.01</td>\n",
       "      <td>39.20</td>\n",
       "      <td>93</td>\n",
       "      <td>90</td>\n",
       "      <td>4.70</td>\n",
       "      <td>CA</td>\n",
       "      <td>-21600</td>\n",
       "    </tr>\n",
       "    <tr>\n",
       "      <th>66</th>\n",
       "      <td>70.63</td>\n",
       "      <td>147.92</td>\n",
       "      <td>82.38</td>\n",
       "      <td>42</td>\n",
       "      <td>41</td>\n",
       "      <td>5.06</td>\n",
       "      <td>RU</td>\n",
       "      <td>39600</td>\n",
       "    </tr>\n",
       "    <tr>\n",
       "      <th>67</th>\n",
       "      <td>19.17</td>\n",
       "      <td>-104.00</td>\n",
       "      <td>68.13</td>\n",
       "      <td>100</td>\n",
       "      <td>88</td>\n",
       "      <td>1.83</td>\n",
       "      <td>MX</td>\n",
       "      <td>-18000</td>\n",
       "    </tr>\n",
       "    <tr>\n",
       "      <th>68</th>\n",
       "      <td>68.75</td>\n",
       "      <td>161.30</td>\n",
       "      <td>71.82</td>\n",
       "      <td>39</td>\n",
       "      <td>68</td>\n",
       "      <td>8.55</td>\n",
       "      <td>RU</td>\n",
       "      <td>39600</td>\n",
       "    </tr>\n",
       "    <tr>\n",
       "      <th>69</th>\n",
       "      <td>40.68</td>\n",
       "      <td>-122.37</td>\n",
       "      <td>73.99</td>\n",
       "      <td>62</td>\n",
       "      <td>13</td>\n",
       "      <td>2.01</td>\n",
       "      <td>US</td>\n",
       "      <td>-25200</td>\n",
       "    </tr>\n",
       "    <tr>\n",
       "      <th>70</th>\n",
       "      <td>64.96</td>\n",
       "      <td>34.58</td>\n",
       "      <td>64.04</td>\n",
       "      <td>78</td>\n",
       "      <td>89</td>\n",
       "      <td>14.25</td>\n",
       "      <td>RU</td>\n",
       "      <td>10800</td>\n",
       "    </tr>\n",
       "    <tr>\n",
       "      <th>71</th>\n",
       "      <td>42.60</td>\n",
       "      <td>-73.97</td>\n",
       "      <td>69.01</td>\n",
       "      <td>81</td>\n",
       "      <td>95</td>\n",
       "      <td>3.56</td>\n",
       "      <td>US</td>\n",
       "      <td>-14400</td>\n",
       "    </tr>\n",
       "    <tr>\n",
       "      <th>74</th>\n",
       "      <td>64.86</td>\n",
       "      <td>11.24</td>\n",
       "      <td>53.60</td>\n",
       "      <td>76</td>\n",
       "      <td>40</td>\n",
       "      <td>10.29</td>\n",
       "      <td>NO</td>\n",
       "      <td>7200</td>\n",
       "    </tr>\n",
       "    <tr>\n",
       "      <th>76</th>\n",
       "      <td>52.04</td>\n",
       "      <td>33.95</td>\n",
       "      <td>66.61</td>\n",
       "      <td>61</td>\n",
       "      <td>23</td>\n",
       "      <td>16.55</td>\n",
       "      <td>UA</td>\n",
       "      <td>10800</td>\n",
       "    </tr>\n",
       "    <tr>\n",
       "      <th>77</th>\n",
       "      <td>59.57</td>\n",
       "      <td>150.80</td>\n",
       "      <td>56.71</td>\n",
       "      <td>74</td>\n",
       "      <td>1</td>\n",
       "      <td>4.61</td>\n",
       "      <td>RU</td>\n",
       "      <td>39600</td>\n",
       "    </tr>\n",
       "    <tr>\n",
       "      <th>78</th>\n",
       "      <td>37.77</td>\n",
       "      <td>-122.42</td>\n",
       "      <td>59.00</td>\n",
       "      <td>82</td>\n",
       "      <td>90</td>\n",
       "      <td>6.93</td>\n",
       "      <td>US</td>\n",
       "      <td>-25200</td>\n",
       "    </tr>\n",
       "    <tr>\n",
       "      <th>80</th>\n",
       "      <td>14.90</td>\n",
       "      <td>-24.50</td>\n",
       "      <td>77.36</td>\n",
       "      <td>82</td>\n",
       "      <td>99</td>\n",
       "      <td>6.22</td>\n",
       "      <td>CV</td>\n",
       "      <td>-3600</td>\n",
       "    </tr>\n",
       "    <tr>\n",
       "      <th>81</th>\n",
       "      <td>63.75</td>\n",
       "      <td>-68.51</td>\n",
       "      <td>46.40</td>\n",
       "      <td>81</td>\n",
       "      <td>90</td>\n",
       "      <td>5.82</td>\n",
       "      <td>CA</td>\n",
       "      <td>-14400</td>\n",
       "    </tr>\n",
       "    <tr>\n",
       "      <th>85</th>\n",
       "      <td>37.23</td>\n",
       "      <td>-80.41</td>\n",
       "      <td>68.00</td>\n",
       "      <td>100</td>\n",
       "      <td>75</td>\n",
       "      <td>2.26</td>\n",
       "      <td>US</td>\n",
       "      <td>-14400</td>\n",
       "    </tr>\n",
       "    <tr>\n",
       "      <th>86</th>\n",
       "      <td>41.14</td>\n",
       "      <td>-73.36</td>\n",
       "      <td>75.99</td>\n",
       "      <td>83</td>\n",
       "      <td>75</td>\n",
       "      <td>3.36</td>\n",
       "      <td>US</td>\n",
       "      <td>-14400</td>\n",
       "    </tr>\n",
       "    <tr>\n",
       "      <th>88</th>\n",
       "      <td>78.22</td>\n",
       "      <td>15.64</td>\n",
       "      <td>50.00</td>\n",
       "      <td>76</td>\n",
       "      <td>75</td>\n",
       "      <td>12.75</td>\n",
       "      <td>SJ</td>\n",
       "      <td>7200</td>\n",
       "    </tr>\n",
       "    <tr>\n",
       "      <th>90</th>\n",
       "      <td>35.13</td>\n",
       "      <td>140.30</td>\n",
       "      <td>80.01</td>\n",
       "      <td>82</td>\n",
       "      <td>77</td>\n",
       "      <td>1.99</td>\n",
       "      <td>JP</td>\n",
       "      <td>32400</td>\n",
       "    </tr>\n",
       "    <tr>\n",
       "      <th>92</th>\n",
       "      <td>21.46</td>\n",
       "      <td>-71.14</td>\n",
       "      <td>83.07</td>\n",
       "      <td>77</td>\n",
       "      <td>2</td>\n",
       "      <td>18.50</td>\n",
       "      <td>TC</td>\n",
       "      <td>-14400</td>\n",
       "    </tr>\n",
       "    <tr>\n",
       "      <th>93</th>\n",
       "      <td>43.42</td>\n",
       "      <td>-2.72</td>\n",
       "      <td>77.00</td>\n",
       "      <td>78</td>\n",
       "      <td>20</td>\n",
       "      <td>1.12</td>\n",
       "      <td>ES</td>\n",
       "      <td>7200</td>\n",
       "    </tr>\n",
       "    <tr>\n",
       "      <th>94</th>\n",
       "      <td>0.52</td>\n",
       "      <td>25.20</td>\n",
       "      <td>79.32</td>\n",
       "      <td>75</td>\n",
       "      <td>100</td>\n",
       "      <td>0.38</td>\n",
       "      <td>CD</td>\n",
       "      <td>7200</td>\n",
       "    </tr>\n",
       "    <tr>\n",
       "      <th>95</th>\n",
       "      <td>26.72</td>\n",
       "      <td>85.91</td>\n",
       "      <td>91.83</td>\n",
       "      <td>58</td>\n",
       "      <td>24</td>\n",
       "      <td>4.05</td>\n",
       "      <td>NP</td>\n",
       "      <td>20700</td>\n",
       "    </tr>\n",
       "    <tr>\n",
       "      <th>98</th>\n",
       "      <td>22.29</td>\n",
       "      <td>114.16</td>\n",
       "      <td>89.01</td>\n",
       "      <td>62</td>\n",
       "      <td>34</td>\n",
       "      <td>11.99</td>\n",
       "      <td>HK</td>\n",
       "      <td>28800</td>\n",
       "    </tr>\n",
       "  </tbody>\n",
       "</table>\n",
       "</div>"
      ],
      "text/plain": [
       "    latitude  longitude  max temp  humidity  clouds  wind speed country  \\\n",
       "4       3.07     172.79     83.10        79      64       15.39      KI   \n",
       "5      65.28    -126.83     46.40       100      75        1.07      CA   \n",
       "6      13.35     -15.75     79.57        82      96        6.06      GM   \n",
       "7      37.34     -85.34     71.60       100      75        3.36      US   \n",
       "8      77.48     -69.36     44.22        59       0        6.29      GL   \n",
       "9      60.46      24.81     66.99        67      20       12.75      FI   \n",
       "12     69.45    -133.04     39.56        86     100        7.56      CA   \n",
       "15     22.08    -159.32     75.20        83      20        9.17      US   \n",
       "18     65.61     -37.64     41.00        93      75        6.93      GL   \n",
       "20      5.66     -67.62     72.91        94     100        3.87      VE   \n",
       "23      4.38      -7.72     77.36        86     100       10.69      LR   \n",
       "25     65.58    -171.00     43.39        82       0        5.70      RU   \n",
       "26     29.11      21.29     89.13        28       0       10.16      LY   \n",
       "29     71.92     114.08     47.75        91     100       19.22      RU   \n",
       "30     17.88     -76.41     82.40        74      20        4.70      JM   \n",
       "31     16.07     108.22     86.00        79      20        8.05      VN   \n",
       "32     64.86    -147.80     53.60        81      90        3.71      US   \n",
       "33     70.37      31.11     55.40        82      20       25.28      NO   \n",
       "35     35.73     140.83     80.01       100      75        4.70      JP   \n",
       "38     29.06     -13.56     75.20        73      20       18.34      ES   \n",
       "42     17.02      54.09     82.40        88      90       13.87      OM   \n",
       "44     47.70       9.57     77.00        68      20        2.24      DE   \n",
       "46     73.51      80.55     41.56        92      20        7.27      RU   \n",
       "47     59.70     150.17     56.86        76      12        4.74      RU   \n",
       "48      1.00     -52.00     71.37        97     100        0.96      BR   \n",
       "49     51.84      40.81     77.11        53      61       10.54      RU   \n",
       "51     38.52     -28.70     69.80        77      75        4.70      PT   \n",
       "52     41.54      -8.62     84.99        65       0        5.82      PT   \n",
       "53     20.45     121.97     85.55        79       7       11.88      PH   \n",
       "54     72.79     -56.15     49.06        64       1        6.71      GL   \n",
       "55     46.49     135.88     68.41        81      36        2.98      RU   \n",
       "57      5.41     100.34     84.20        79      20        8.05      MY   \n",
       "58     71.97     102.50     61.38        54      98       15.82      RU   \n",
       "60     55.74     -97.86     51.80        87      20        4.38      CA   \n",
       "62     14.92     -23.51     78.80        83      75        6.93      CV   \n",
       "63     55.96      97.82     71.13        58       8       10.27      RU   \n",
       "64     66.04     -17.34     50.00        81      75        9.17      IS   \n",
       "65     68.22    -135.01     39.20        93      90        4.70      CA   \n",
       "66     70.63     147.92     82.38        42      41        5.06      RU   \n",
       "67     19.17    -104.00     68.13       100      88        1.83      MX   \n",
       "68     68.75     161.30     71.82        39      68        8.55      RU   \n",
       "69     40.68    -122.37     73.99        62      13        2.01      US   \n",
       "70     64.96      34.58     64.04        78      89       14.25      RU   \n",
       "71     42.60     -73.97     69.01        81      95        3.56      US   \n",
       "74     64.86      11.24     53.60        76      40       10.29      NO   \n",
       "76     52.04      33.95     66.61        61      23       16.55      UA   \n",
       "77     59.57     150.80     56.71        74       1        4.61      RU   \n",
       "78     37.77    -122.42     59.00        82      90        6.93      US   \n",
       "80     14.90     -24.50     77.36        82      99        6.22      CV   \n",
       "81     63.75     -68.51     46.40        81      90        5.82      CA   \n",
       "85     37.23     -80.41     68.00       100      75        2.26      US   \n",
       "86     41.14     -73.36     75.99        83      75        3.36      US   \n",
       "88     78.22      15.64     50.00        76      75       12.75      SJ   \n",
       "90     35.13     140.30     80.01        82      77        1.99      JP   \n",
       "92     21.46     -71.14     83.07        77       2       18.50      TC   \n",
       "93     43.42      -2.72     77.00        78      20        1.12      ES   \n",
       "94      0.52      25.20     79.32        75     100        0.38      CD   \n",
       "95     26.72      85.91     91.83        58      24        4.05      NP   \n",
       "98     22.29     114.16     89.01        62      34       11.99      HK   \n",
       "\n",
       "    timezone  \n",
       "4      43200  \n",
       "5     -21600  \n",
       "6          0  \n",
       "7     -14400  \n",
       "8     -10800  \n",
       "9      10800  \n",
       "12    -21600  \n",
       "15    -36000  \n",
       "18     -7200  \n",
       "20    -14400  \n",
       "23         0  \n",
       "25     43200  \n",
       "26      7200  \n",
       "29     32400  \n",
       "30    -18000  \n",
       "31     25200  \n",
       "32    -28800  \n",
       "33      7200  \n",
       "35     32400  \n",
       "38      3600  \n",
       "42     14400  \n",
       "44      7200  \n",
       "46     25200  \n",
       "47     39600  \n",
       "48    -10800  \n",
       "49     10800  \n",
       "51         0  \n",
       "52      3600  \n",
       "53     28800  \n",
       "54     -7200  \n",
       "55     36000  \n",
       "57     28800  \n",
       "58     25200  \n",
       "60    -18000  \n",
       "62     -3600  \n",
       "63     28800  \n",
       "64         0  \n",
       "65    -21600  \n",
       "66     39600  \n",
       "67    -18000  \n",
       "68     39600  \n",
       "69    -25200  \n",
       "70     10800  \n",
       "71    -14400  \n",
       "74      7200  \n",
       "76     10800  \n",
       "77     39600  \n",
       "78    -25200  \n",
       "80     -3600  \n",
       "81    -14400  \n",
       "85    -14400  \n",
       "86    -14400  \n",
       "88      7200  \n",
       "90     32400  \n",
       "92    -14400  \n",
       "93      7200  \n",
       "94      7200  \n",
       "95     20700  \n",
       "98     28800  "
      ]
     },
     "execution_count": 36,
     "metadata": {},
     "output_type": "execute_result"
    }
   ],
   "source": [
    "# Create Northern and Southern Hemisphere DataFrames\n",
    "north = weather_data[weather_data['latitude'] > 0]\n",
    "south = weather_data[weather_data['latitude'] < 0]\n",
    "north"
   ]
  },
  {
   "cell_type": "markdown",
   "metadata": {},
   "source": [
    "####  Northern Hemisphere - Max Temp vs. Latitude Linear Regression"
   ]
  },
  {
   "cell_type": "code",
   "execution_count": 62,
   "metadata": {},
   "outputs": [
    {
     "name": "stdout",
     "output_type": "stream",
     "text": [
      "y = -0.48x +88.45\n"
     ]
    },
    {
     "data": {
      "image/png": "[encoded data removed]",
      "text/plain": [
       "<Figure size 432x288 with 1 Axes>"
      ]
     },
     "metadata": {
      "needs_background": "light"
     },
     "output_type": "display_data"
    }
   ],
   "source": [
    "(slope, intercept, rvalue, pvalue, stderr) = linregress(north[\"latitude\"], north[\"max temp\"])\n",
    "regress_values = north[\"latitude\"] * slope + intercept\n",
    "plt.plot(north[\"latitude\"], regress_values)\n",
    "mxb = \"y = \" + str(round(slope,2)) + \"x +\" + str(round(intercept,2))\n",
    "plt.title(\"Northern Max Temp vs. Latitude\")\n",
    "plt.xlabel(\"Latitude\")\n",
    "plt.ylabel(\"Max Temp\")\n",
    "print(mxb)\n",
    "plt.savefig(\"Temp_lat_north_linregress.png\")"
   ]
  },
  {
   "cell_type": "markdown",
   "metadata": {},
   "source": [
    "####  Southern Hemisphere - Max Temp vs. Latitude Linear Regression"
   ]
  },
  {
   "cell_type": "code",
   "execution_count": 63,
   "metadata": {},
   "outputs": [
    {
     "name": "stdout",
     "output_type": "stream",
     "text": [
      "y = 0.88x +85.4\n"
     ]
    },
    {
     "data": {
      "image/png": "[encoded data removed]",
      "text/plain": [
       "<Figure size 432x288 with 1 Axes>"
      ]
     },
     "metadata": {
      "needs_background": "light"
     },
     "output_type": "display_data"
    }
   ],
   "source": [
    "(slope, intercept, rvalue, pvalue, stderr) = linregress(south[\"latitude\"], south[\"max temp\"])\n",
    "regress_values = south[\"latitude\"] * slope + intercept\n",
    "plt.plot(south[\"latitude\"], regress_values)\n",
    "mxb = \"y = \" + str(round(slope,2)) + \"x +\" + str(round(intercept,2))\n",
    "plt.title(\"Southern Max Temp vs. Latitude\")\n",
    "plt.xlabel(\"Latitude\")\n",
    "plt.ylabel(\"Max Temp\")\n",
    "print(mxb)\n",
    "plt.savefig(\"Temp_lat_south_linregress.png\")"
   ]
  },
  {
   "cell_type": "code",
   "execution_count": null,
   "metadata": {},
   "outputs": [],
   "source": [
    "#As seen in the scatter plot, the max temp rises towards 0. As such, it drops as the first graph departs 0, \n",
    "#and rises as the second approaches"
   ]
  },
  {
   "cell_type": "markdown",
   "metadata": {},
   "source": [
    "####  Northern Hemisphere - Humidity (%) vs. Latitude Linear Regression"
   ]
  },
  {
   "cell_type": "code",
   "execution_count": 64,
   "metadata": {},
   "outputs": [
    {
     "name": "stdout",
     "output_type": "stream",
     "text": [
      "y = -0.12x +82.3\n"
     ]
    },
    {
     "data": {
      "image/png": "[encoded data removed]",
      "text/plain": [
       "<Figure size 432x288 with 1 Axes>"
      ]
     },
     "metadata": {
      "needs_background": "light"
     },
     "output_type": "display_data"
    }
   ],
   "source": [
    "(slope, intercept, rvalue, pvalue, stderr) = linregress(north[\"latitude\"], north[\"humidity\"])\n",
    "regress_values = north[\"latitude\"] * slope + intercept\n",
    "plt.plot(north[\"latitude\"], regress_values)\n",
    "mxb = \"y = \" + str(round(slope,2)) + \"x +\" + str(round(intercept,2))\n",
    "plt.title(\"Northern Humidity vs. Latitude\")\n",
    "plt.xlabel(\"Latitude\")\n",
    "plt.ylabel(\"Humidity\")\n",
    "print(mxb)\n",
    "plt.savefig(\"Humidity_lat_north_linregress.png\")"
   ]
  },
  {
   "cell_type": "markdown",
   "metadata": {},
   "source": [
    "####  Southern Hemisphere - Humidity (%) vs. Latitude Linear Regression"
   ]
  },
  {
   "cell_type": "code",
   "execution_count": 65,
   "metadata": {},
   "outputs": [
    {
     "name": "stdout",
     "output_type": "stream",
     "text": [
      "y = -0.02x +75.65\n"
     ]
    },
    {
     "data": {
      "image/png": "[encoded data removed]",
      "text/plain": [
       "<Figure size 432x288 with 1 Axes>"
      ]
     },
     "metadata": {
      "needs_background": "light"
     },
     "output_type": "display_data"
    }
   ],
   "source": [
    "(slope, intercept, rvalue, pvalue, stderr) = linregress(south[\"latitude\"], south[\"humidity\"])\n",
    "regress_values = south[\"latitude\"] * slope + intercept\n",
    "plt.plot(south[\"latitude\"], regress_values)\n",
    "mxb = \"y = \" + str(round(slope,2)) + \"x +\" + str(round(intercept,2))\n",
    "plt.title(\"Southern Humidity vs. Latitude\")\n",
    "plt.xlabel(\"Latitude\")\n",
    "plt.ylabel(\"Humidity\")\n",
    "print(mxb)\n",
    "plt.savefig(\"Humidty_lat__south_linregress.png\")"
   ]
  },
  {
   "cell_type": "code",
   "execution_count": null,
   "metadata": {},
   "outputs": [],
   "source": [
    "#There was no distinct relationship between humidity and latitude, and the results above are lowly correlated negative \n",
    "#trends toward the equator"
   ]
  },
  {
   "cell_type": "markdown",
   "metadata": {},
   "source": [
    "####  Northern Hemisphere - Cloudiness (%) vs. Latitude Linear Regression"
   ]
  },
  {
   "cell_type": "code",
   "execution_count": 66,
   "metadata": {},
   "outputs": [
    {
     "name": "stdout",
     "output_type": "stream",
     "text": [
      "y = -0.21x +61.49\n"
     ]
    },
    {
     "data": {
      "image/png": "[encoded data removed]",
      "text/plain": [
       "<Figure size 432x288 with 1 Axes>"
      ]
     },
     "metadata": {
      "needs_background": "light"
     },
     "output_type": "display_data"
    }
   ],
   "source": [
    "(slope, intercept, rvalue, pvalue, stderr) = linregress(north[\"latitude\"], north[\"clouds\"])\n",
    "regress_values = north[\"latitude\"] * slope + intercept\n",
    "plt.plot(north[\"latitude\"], regress_values)\n",
    "mxb = \"y = \" + str(round(slope,2)) + \"x +\" + str(round(intercept,2))\n",
    "plt.title(\"Northern Cloudiness vs. Latitude\")\n",
    "plt.xlabel(\"Latitude\")\n",
    "plt.ylabel(\"clouds\")\n",
    "print(mxb)\n",
    "plt.savefig(\"cloud_lat_north_linregress.png\")"
   ]
  },
  {
   "cell_type": "markdown",
   "metadata": {},
   "source": [
    "####  Southern Hemisphere - Cloudiness (%) vs. Latitude Linear Regression"
   ]
  },
  {
   "cell_type": "code",
   "execution_count": 67,
   "metadata": {},
   "outputs": [
    {
     "name": "stdout",
     "output_type": "stream",
     "text": [
      "y = -0.33x +38.82\n"
     ]
    },
    {
     "data": {
      "image/png": "[encoded data removed]",
      "text/plain": [
       "<Figure size 432x288 with 1 Axes>"
      ]
     },
     "metadata": {
      "needs_background": "light"
     },
     "output_type": "display_data"
    }
   ],
   "source": [
    "(slope, intercept, rvalue, pvalue, stderr) = linregress(south[\"latitude\"], south[\"clouds\"])\n",
    "regress_values = south[\"latitude\"] * slope + intercept\n",
    "plt.plot(south[\"latitude\"], regress_values)\n",
    "mxb = \"y = \" + str(round(slope,2)) + \"x +\" + str(round(intercept,2))\n",
    "plt.title(\"Southern Cloudiness vs. Latitude\")\n",
    "plt.xlabel(\"Latitude\")\n",
    "plt.ylabel(\"clouds\")\n",
    "print(mxb)\n",
    "plt.savefig(\"clouds_lat_south_linregress.png\")"
   ]
  },
  {
   "cell_type": "code",
   "execution_count": null,
   "metadata": {},
   "outputs": [],
   "source": [
    "#Same as with humidity, cloudiness yields two low 'r' values showing negative trends towards the equator"
   ]
  },
  {
   "cell_type": "markdown",
   "metadata": {},
   "source": [
    "####  Northern Hemisphere - Wind Speed (mph) vs. Latitude Linear Regression"
   ]
  },
  {
   "cell_type": "code",
   "execution_count": 68,
   "metadata": {},
   "outputs": [
    {
     "name": "stdout",
     "output_type": "stream",
     "text": [
      "y = 0.03x +6.39\n"
     ]
    },
    {
     "data": {
      "image/png": "[encoded data removed]",
      "text/plain": [
       "<Figure size 432x288 with 1 Axes>"
      ]
     },
     "metadata": {
      "needs_background": "light"
     },
     "output_type": "display_data"
    }
   ],
   "source": [
    "(slope, intercept, rvalue, pvalue, stderr) = linregress(north[\"latitude\"], north[\"wind speed\"])\n",
    "regress_values = north[\"latitude\"] * slope + intercept\n",
    "plt.plot(north[\"latitude\"], regress_values)\n",
    "mxb = \"y = \" + str(round(slope,2)) + \"x +\" + str(round(intercept,2))\n",
    "plt.title(\"Northern Wind Speed vs. Latitude\")\n",
    "plt.xlabel(\"Latitude\")\n",
    "plt.ylabel(\"Wind Speed\")\n",
    "print(mxb)\n",
    "plt.savefig(\"wind_lat__north_linregress.png\")"
   ]
  },
  {
   "cell_type": "markdown",
   "metadata": {},
   "source": [
    "####  Southern Hemisphere - Wind Speed (mph) vs. Latitude Linear Regression"
   ]
  },
  {
   "cell_type": "code",
   "execution_count": 69,
   "metadata": {},
   "outputs": [
    {
     "name": "stdout",
     "output_type": "stream",
     "text": [
      "y = -0.03x +8.45\n"
     ]
    },
    {
     "data": {
      "image/png": "[encoded data removed]",
      "text/plain": [
       "<Figure size 432x288 with 1 Axes>"
      ]
     },
     "metadata": {
      "needs_background": "light"
     },
     "output_type": "display_data"
    }
   ],
   "source": [
    "(slope, intercept, rvalue, pvalue, stderr) = linregress(south[\"latitude\"], south[\"wind speed\"])\n",
    "regress_values = south[\"latitude\"] * slope + intercept\n",
    "plt.plot(south[\"latitude\"], regress_values)\n",
    "mxb = \"y = \" + str(round(slope,2)) + \"x +\" + str(round(intercept,2))\n",
    "plt.title(\"Southern Wind Speed vs. Latitude\")\n",
    "plt.xlabel(\"Latitude\")\n",
    "plt.ylabel(\"Wind Speed\")\n",
    "print(mxb)\n",
    "plt.savefig(\"wind_lat__south_linregress.png\")"
   ]
  },
  {
   "cell_type": "code",
   "execution_count": null,
   "metadata": {},
   "outputs": [],
   "source": [
    "#Same as the other two, the only difference being that the slope is even lower, as there was such a skew on the scatter\n",
    "#plot toward the low/0 region of wind speed"
   ]
  }
 ],
 "metadata": {
  "anaconda-cloud": {},
  "kernel_info": {
   "name": "python3"
  },
  "kernelspec": {
   "display_name": "Python 3",
   "language": "python",
   "name": "python3"
  },
  "language_info": {
   "codemirror_mode": {
    "name": "ipython",
    "version": 3
   },
   "file_extension": ".py",
   "mimetype": "text/x-python",
   "name": "python",
   "nbconvert_exporter": "python",
   "pygments_lexer": "ipython3",
   "version": "3.7.6"
  },
  "latex_envs": {
   "LaTeX_envs_menu_present": true,
   "autoclose": false,
   "autocomplete": true,
   "bibliofile": "biblio.bib",
   "cite_by": "apalike",
   "current_citInitial": 1,
   "eqLabelWithNumbers": true,
   "eqNumInitial": 1,
   "hotkeys": {
    "equation": "Ctrl-E",
    "itemize": "Ctrl-I"
   },
   "labels_anchors": false,
   "latex_user_defs": false,
   "report_style_numbering": false,
   "user_envs_cfg": false
  },
  "nteract": {
   "version": "0.12.3"
  }
 },
 "nbformat": 4,
 "nbformat_minor": 2
}
