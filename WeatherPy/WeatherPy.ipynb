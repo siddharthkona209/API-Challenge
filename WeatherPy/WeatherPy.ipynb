{
 "cells": [
  {
   "cell_type": "markdown",
   "metadata": {},
   "source": [
    "# WeatherPy\n",
    "----\n",
    "\n",
    "#### Note\n",
    "* Instructions have been included for each segment. You do not have to follow them exactly, but they are included to help you think through the steps."
   ]
  },
  {
   "cell_type": "code",
   "execution_count": 1,
   "metadata": {
    "scrolled": true
   },
   "outputs": [],
   "source": [
    "# Dependencies and Setup\n",
    "import matplotlib.pyplot as plt\n",
    "import pandas as pd\n",
    "import numpy as np\n",
    "import requests\n",
    "import time\n",
    "from scipy.stats import linregress\n",
    "from pprint import pprint\n",
    "\n",
    "# Import API key\n",
    "from api_keys import weather_api_key\n",
    "\n",
    "# Incorporated citipy to determine city based on latitude and longitude\n",
    "from citipy import citipy\n",
    "\n",
    "# Output File (CSV)\n",
    "output_data_file = \"output_data/cities.csv\"\n",
    "\n",
    "# Range of latitudes and longitudes\n",
    "lat_range = (-90, 90)\n",
    "lng_range = (-180, 180)"
   ]
  },
  {
   "cell_type": "markdown",
   "metadata": {},
   "source": [
    "## Generate Cities List"
   ]
  },
  {
   "cell_type": "code",
   "execution_count": 2,
   "metadata": {},
   "outputs": [
    {
     "data": {
      "text/plain": [
       "114"
      ]
     },
     "execution_count": 2,
     "metadata": {},
     "output_type": "execute_result"
    }
   ],
   "source": [
    "# List for holding lat_lngs and cities\n",
    "lat_lngs = []\n",
    "cities = []\n",
    "\n",
    "# Create a set of random lat and lng combinations\n",
    "lats = np.random.uniform(lat_range[0], lat_range[1], size=1500)\n",
    "lngs = np.random.uniform(lng_range[0], lng_range[1], size=1500)\n",
    "lat_lngs = zip(lats, lngs)\n",
    "\n",
    "# Identify nearest city for each lat, lng combination\n",
    "for lat_lng in lat_lngs:\n",
    "    city = citipy.nearest_city(lat_lng[0], lat_lng[1]).city_name\n",
    "    \n",
    "    # If the city is unique, then add it to a our cities list\n",
    "    if city not in cities:\n",
    "        cities.append(city)\n",
    "\n",
    "# Print the city count to confirm sufficient count\n",
    "len(cities)"
   ]
  },
  {
   "cell_type": "markdown",
   "metadata": {},
   "source": [
    "### Perform API Calls\n",
    "* Perform a weather check on each city using a series of successive API calls.\n",
    "* Include a print log of each city as it'sbeing processed (with the city number and city name).\n"
   ]
  },
  {
   "cell_type": "code",
   "execution_count": 3,
   "metadata": {
    "scrolled": true
   },
   "outputs": [
    {
     "name": "stdout",
     "output_type": "stream",
     "text": [
      "1. severo-kurilsk: Processing: \n",
      "scattered clouds\n",
      "2. vaini: Processing: \n",
      "broken clouds\n",
      "3. mahebourg: Processing: \n",
      "broken clouds\n",
      "4. katsuura: Processing: \n",
      "overcast clouds\n",
      "5. northam: Processing: \n",
      "broken clouds\n",
      "6. san policarpo: Processing: \n",
      "scattered clouds\n",
      "7. aksha: Processing: \n",
      "overcast clouds\n",
      "8. rikitea: Processing: \n",
      "overcast clouds\n",
      "9. tuktoyaktuk: Processing: \n",
      "light rain\n",
      "10. atar: Processing: \n",
      "scattered clouds\n",
      "11. sentyabrskiy: Processing: \n",
      "city not in database\n",
      "12. polunochnoye: Processing: \n",
      "scattered clouds\n",
      "13. atuona: Processing: \n",
      "clear sky\n",
      "14. carutapera: Processing: \n",
      "few clouds\n",
      "15. tasiilaq: Processing: \n",
      "scattered clouds\n",
      "16. san patricio: Processing: \n",
      "broken clouds\n",
      "17. hermanus: Processing: \n",
      "clear sky\n",
      "18. puerto ayora: Processing: \n",
      "scattered clouds\n",
      "19. provideniya: Processing: \n",
      "fog\n",
      "20. hilo: Processing: \n",
      "clear sky\n",
      "21. axim: Processing: \n",
      "overcast clouds\n",
      "22. port alfred: Processing: \n",
      "clear sky\n",
      "23. ilulissat: Processing: \n",
      "scattered clouds\n",
      "24. nikolskoye: Processing: \n",
      "clear sky\n",
      "25. kruisfontein: Processing: \n",
      "clear sky\n",
      "26. nanortalik: Processing: \n",
      "light rain\n",
      "27. puerto escondido: Processing: \n",
      "overcast clouds\n",
      "28. busselton: Processing: \n",
      "scattered clouds\n",
      "29. attawapiskat: Processing: \n",
      "city not in database\n",
      "30. hellvik: Processing: \n",
      "few clouds\n",
      "31. okhotsk: Processing: \n",
      "scattered clouds\n",
      "32. mataura: Processing: \n",
      "overcast clouds\n",
      "33. klaksvik: Processing: \n",
      "overcast clouds\n",
      "34. tautira: Processing: \n",
      "few clouds\n",
      "35. bulgan: Processing: \n",
      "light rain\n",
      "36. saskylakh: Processing: \n",
      "overcast clouds\n",
      "37. bulungu: Processing: \n",
      "overcast clouds\n",
      "38. palu: Processing: \n",
      "moderate rain\n",
      "39. westport: Processing: \n",
      "clear sky\n",
      "40. avarua: Processing: \n",
      "light rain\n",
      "41. yellowknife: Processing: \n",
      "light rain\n",
      "42. torbay: Processing: \n",
      "broken clouds\n",
      "43. kaitong: Processing: \n",
      "clear sky\n",
      "44. luena: Processing: \n",
      "clear sky\n",
      "45. dikson: Processing: \n",
      "scattered clouds\n",
      "46. illoqqortoormiut: Processing: \n",
      "city not in database\n",
      "47. kysyl-syr: Processing: \n",
      "clear sky\n",
      "48. aklavik: Processing: \n",
      "broken clouds\n",
      "49. villazon: Processing: \n",
      "clear sky\n",
      "50. lebu: Processing: \n",
      "light rain\n",
      "51. nizhneyansk: Processing: \n",
      "city not in database\n",
      "52. azimur: Processing: \n",
      "city not in database\n",
      "53. geraldton: Processing: \n",
      "overcast clouds\n",
      "54. flinders: Processing: \n",
      "few clouds\n",
      "55. phatthalung: Processing: \n",
      "overcast clouds\n",
      "56. albany: Processing: \n",
      "very heavy rain\n",
      "57. belaya gora: Processing: \n",
      "few clouds\n",
      "58. lagoa: Processing: \n",
      "clear sky\n",
      "59. parabel: Processing: \n",
      "overcast clouds\n",
      "60. arraial do cabo: Processing: \n",
      "clear sky\n",
      "61. hobart: Processing: \n",
      "broken clouds\n",
      "62. cherskiy: Processing: \n",
      "overcast clouds\n",
      "63. bredasdorp: Processing: \n",
      "clear sky\n",
      "64. kaitangata: Processing: \n",
      "scattered clouds\n",
      "65. kargasok: Processing: \n",
      "light rain\n",
      "66. campo largo: Processing: \n",
      "broken clouds\n",
      "67. katherine: Processing: \n",
      "clear sky\n",
      "68. amderma: Processing: \n",
      "city not in database\n",
      "69. bluff: Processing: \n",
      "light rain\n",
      "70. cidreira: Processing: \n",
      "overcast clouds\n",
      "71. maniitsoq: Processing: \n",
      "clear sky\n",
      "72. la union: Processing: \n",
      "clear sky\n",
      "73. taolanaro: Processing: \n",
      "city not in database\n",
      "74. olga: Processing: \n",
      "overcast clouds\n",
      "75. tikhvin: Processing: \n",
      "few clouds\n",
      "76. husavik: Processing: \n",
      "overcast clouds\n",
      "77. bethel: Processing: \n",
      "moderate rain\n",
      "78. tezu: Processing: \n",
      "overcast clouds\n",
      "79. butaritari: Processing: \n",
      "broken clouds\n",
      "80. narsaq: Processing: \n",
      "broken clouds\n",
      "81. jiangyou: Processing: \n",
      "light rain\n",
      "82. geelong: Processing: \n",
      "overcast clouds\n",
      "83. meulaboh: Processing: \n",
      "moderate rain\n",
      "84. oksfjord: Processing: \n",
      "light rain\n",
      "85. hasaki: Processing: \n",
      "light rain\n",
      "86. harnosand: Processing: \n",
      "broken clouds\n",
      "87. new norfolk: Processing: \n",
      "broken clouds\n",
      "88. barentsburg: Processing: \n",
      "city not in database\n",
      "89. buciumi: Processing: \n",
      "clear sky\n",
      "90. victoria: Processing: \n",
      "light rain\n",
      "91. jamestown: Processing: \n",
      "few clouds\n",
      "92. vardo: Processing: \n",
      "scattered clouds\n",
      "93. punta arenas: Processing: \n",
      "clear sky\n",
      "94. saint george: Processing: \n",
      "clear sky\n",
      "95. carnarvon: Processing: \n",
      "clear sky\n",
      "96. sitka: Processing: \n",
      "broken clouds\n",
      "97. vaitupu: Processing: \n",
      "city not in database\n",
      "98. ushuaia: Processing: \n",
      "overcast clouds\n",
      "99. coahuayana: Processing: \n",
      "light rain\n",
      "100. batticaloa: Processing: \n",
      "overcast clouds\n",
      "101. norman wells: Processing: \n",
      "broken clouds\n",
      "102. saint-francois: Processing: \n",
      "clear sky\n",
      "103. georgetown: Processing: \n",
      "few clouds\n",
      "104. rzhev: Processing: \n",
      "light rain\n",
      "105. nome: Processing: \n",
      "few clouds\n",
      "106. kahului: Processing: \n",
      "few clouds\n",
      "107. longyearbyen: Processing: \n",
      "broken clouds\n",
      "108. ribeira grande: Processing: \n",
      "scattered clouds\n",
      "109. buala: Processing: \n",
      "broken clouds\n",
      "110. klyuchi: Processing: \n",
      "clear sky\n",
      "111. agsu: Processing: \n",
      "city not in database\n",
      "112. ca mau: Processing: \n",
      "broken clouds\n",
      "113. cape town: Processing: \n",
      "mist\n",
      "114. presidencia roque saenz pena: Processing: \n",
      "few clouds\n"
     ]
    }
   ],
   "source": [
    "url = \"http://api.openweathermap.org/data/2.5/weather?\"\n",
    "units = \"imperial\"\n",
    "query_url = f\"{url}appid={weather_api_key}&units={units}&q=\"\n",
    "num = 0\n",
    "weathers = []\n",
    "for city in cities:\n",
    "    num = num + 1\n",
    "    try:\n",
    "        print(f\"{num}. {city}: Processing: \")\n",
    "        query = query_url+city\n",
    "        response = requests.get(query).json()\n",
    "        weathers.append(response[\"weather\"][0][\"description\"])\n",
    "        print(response[\"weather\"][0][\"description\"])\n",
    "    except KeyError:\n",
    "        weathers.append(\"city not in database\")\n",
    "        print(\"city not in database\")"
   ]
  },
  {
   "cell_type": "markdown",
   "metadata": {},
   "source": [
    "### Convert Raw Data to DataFrame\n",
    "* Export the city data into a .csv.\n",
    "* Display the DataFrame"
   ]
  },
  {
   "cell_type": "code",
   "execution_count": 4,
   "metadata": {},
   "outputs": [],
   "source": [
    "lat = []\n",
    "long = []\n",
    "max_temp = []\n",
    "humidity = []\n",
    "cloud = []\n",
    "wind = []\n",
    "city_country = []\n",
    "date_time = []\n",
    "for city in cities:\n",
    "    try:\n",
    "        query = query_url+city\n",
    "        response = requests.get(query).json()\n",
    "        lat.append(response[\"coord\"][\"lat\"])\n",
    "        long.append(response[\"coord\"][\"lon\"])\n",
    "        max_temp.append(response[\"main\"][\"temp_max\"])\n",
    "        humidity.append(response[\"main\"][\"humidity\"])\n",
    "        cloud.append(response[\"clouds\"][\"all\"])\n",
    "        wind.append(response[\"wind\"][\"speed\"])\n",
    "        city_country.append(response[\"sys\"][\"country\"])\n",
    "        date_time.append(response[\"timezone\"])\n",
    "    except KeyError:\n",
    "        pass"
   ]
  },
  {
   "cell_type": "code",
   "execution_count": 5,
   "metadata": {},
   "outputs": [
    {
     "data": {
      "text/html": [
       "<div>\n",
       "<style scoped>\n",
       "    .dataframe tbody tr th:only-of-type {\n",
       "        vertical-align: middle;\n",
       "    }\n",
       "\n",
       "    .dataframe tbody tr th {\n",
       "        vertical-align: top;\n",
       "    }\n",
       "\n",
       "    .dataframe thead th {\n",
       "        text-align: right;\n",
       "    }\n",
       "</style>\n",
       "<table border=\"1\" class=\"dataframe\">\n",
       "  <thead>\n",
       "    <tr style=\"text-align: right;\">\n",
       "      <th></th>\n",
       "      <th>latitude</th>\n",
       "      <th>longitude</th>\n",
       "      <th>max temp</th>\n",
       "      <th>humidity</th>\n",
       "      <th>clouds</th>\n",
       "      <th>wind speed</th>\n",
       "      <th>country</th>\n",
       "      <th>timezone</th>\n",
       "    </tr>\n",
       "  </thead>\n",
       "  <tbody>\n",
       "    <tr>\n",
       "      <th>0</th>\n",
       "      <td>50.68</td>\n",
       "      <td>156.12</td>\n",
       "      <td>52.29</td>\n",
       "      <td>84</td>\n",
       "      <td>34</td>\n",
       "      <td>1.16</td>\n",
       "      <td>RU</td>\n",
       "      <td>39600</td>\n",
       "    </tr>\n",
       "    <tr>\n",
       "      <th>1</th>\n",
       "      <td>-21.20</td>\n",
       "      <td>-175.20</td>\n",
       "      <td>75.20</td>\n",
       "      <td>73</td>\n",
       "      <td>75</td>\n",
       "      <td>5.82</td>\n",
       "      <td>TO</td>\n",
       "      <td>46800</td>\n",
       "    </tr>\n",
       "    <tr>\n",
       "      <th>2</th>\n",
       "      <td>-20.41</td>\n",
       "      <td>57.70</td>\n",
       "      <td>69.80</td>\n",
       "      <td>68</td>\n",
       "      <td>75</td>\n",
       "      <td>11.41</td>\n",
       "      <td>MU</td>\n",
       "      <td>14400</td>\n",
       "    </tr>\n",
       "    <tr>\n",
       "      <th>3</th>\n",
       "      <td>35.13</td>\n",
       "      <td>140.30</td>\n",
       "      <td>75.99</td>\n",
       "      <td>91</td>\n",
       "      <td>100</td>\n",
       "      <td>1.99</td>\n",
       "      <td>JP</td>\n",
       "      <td>32400</td>\n",
       "    </tr>\n",
       "    <tr>\n",
       "      <th>4</th>\n",
       "      <td>51.03</td>\n",
       "      <td>-4.22</td>\n",
       "      <td>59.00</td>\n",
       "      <td>91</td>\n",
       "      <td>66</td>\n",
       "      <td>1.99</td>\n",
       "      <td>GB</td>\n",
       "      <td>3600</td>\n",
       "    </tr>\n",
       "    <tr>\n",
       "      <th>...</th>\n",
       "      <td>...</td>\n",
       "      <td>...</td>\n",
       "      <td>...</td>\n",
       "      <td>...</td>\n",
       "      <td>...</td>\n",
       "      <td>...</td>\n",
       "      <td>...</td>\n",
       "      <td>...</td>\n",
       "    </tr>\n",
       "    <tr>\n",
       "      <th>99</th>\n",
       "      <td>-8.14</td>\n",
       "      <td>159.59</td>\n",
       "      <td>82.58</td>\n",
       "      <td>78</td>\n",
       "      <td>67</td>\n",
       "      <td>11.54</td>\n",
       "      <td>SB</td>\n",
       "      <td>39600</td>\n",
       "    </tr>\n",
       "    <tr>\n",
       "      <th>100</th>\n",
       "      <td>52.27</td>\n",
       "      <td>79.17</td>\n",
       "      <td>58.57</td>\n",
       "      <td>82</td>\n",
       "      <td>0</td>\n",
       "      <td>3.44</td>\n",
       "      <td>RU</td>\n",
       "      <td>25200</td>\n",
       "    </tr>\n",
       "    <tr>\n",
       "      <th>101</th>\n",
       "      <td>9.18</td>\n",
       "      <td>105.15</td>\n",
       "      <td>77.36</td>\n",
       "      <td>87</td>\n",
       "      <td>73</td>\n",
       "      <td>1.07</td>\n",
       "      <td>VN</td>\n",
       "      <td>25200</td>\n",
       "    </tr>\n",
       "    <tr>\n",
       "      <th>102</th>\n",
       "      <td>-33.93</td>\n",
       "      <td>18.42</td>\n",
       "      <td>55.00</td>\n",
       "      <td>100</td>\n",
       "      <td>0</td>\n",
       "      <td>2.24</td>\n",
       "      <td>ZA</td>\n",
       "      <td>7200</td>\n",
       "    </tr>\n",
       "    <tr>\n",
       "      <th>103</th>\n",
       "      <td>-26.79</td>\n",
       "      <td>-60.44</td>\n",
       "      <td>68.25</td>\n",
       "      <td>65</td>\n",
       "      <td>14</td>\n",
       "      <td>11.18</td>\n",
       "      <td>AR</td>\n",
       "      <td>-10800</td>\n",
       "    </tr>\n",
       "  </tbody>\n",
       "</table>\n",
       "<p>104 rows × 8 columns</p>\n",
       "</div>"
      ],
      "text/plain": [
       "     latitude  longitude  max temp  humidity  clouds  wind speed country  \\\n",
       "0       50.68     156.12     52.29        84      34        1.16      RU   \n",
       "1      -21.20    -175.20     75.20        73      75        5.82      TO   \n",
       "2      -20.41      57.70     69.80        68      75       11.41      MU   \n",
       "3       35.13     140.30     75.99        91     100        1.99      JP   \n",
       "4       51.03      -4.22     59.00        91      66        1.99      GB   \n",
       "..        ...        ...       ...       ...     ...         ...     ...   \n",
       "99      -8.14     159.59     82.58        78      67       11.54      SB   \n",
       "100     52.27      79.17     58.57        82       0        3.44      RU   \n",
       "101      9.18     105.15     77.36        87      73        1.07      VN   \n",
       "102    -33.93      18.42     55.00       100       0        2.24      ZA   \n",
       "103    -26.79     -60.44     68.25        65      14       11.18      AR   \n",
       "\n",
       "     timezone  \n",
       "0       39600  \n",
       "1       46800  \n",
       "2       14400  \n",
       "3       32400  \n",
       "4        3600  \n",
       "..        ...  \n",
       "99      39600  \n",
       "100     25200  \n",
       "101     25200  \n",
       "102      7200  \n",
       "103    -10800  \n",
       "\n",
       "[104 rows x 8 columns]"
      ]
     },
     "execution_count": 5,
     "metadata": {},
     "output_type": "execute_result"
    }
   ],
   "source": [
    "weather_data = pd.DataFrame(long, lat, columns = [\"longitude\"])\n",
    "weather_data = weather_data.reset_index()\n",
    "weather_data = weather_data.rename(columns = {\"index\":\"latitude\"})\n",
    "weather_data[\"max temp\"] = max_temp\n",
    "weather_data[\"humidity\"] = humidity\n",
    "weather_data[\"clouds\"] = cloud\n",
    "weather_data[\"wind speed\"] = wind\n",
    "weather_data[\"country\"] = city_country\n",
    "weather_data[\"timezone\"] = date_time\n",
    "weather_data"
   ]
  },
  {
   "cell_type": "code",
   "execution_count": 6,
   "metadata": {
    "scrolled": true
   },
   "outputs": [],
   "source": [
    "weather_data.to_csv(\"weather.csv\", index = False)"
   ]
  },
  {
   "cell_type": "markdown",
   "metadata": {},
   "source": [
    "## Inspect the data and remove the cities where the humidity > 100%.\n",
    "----\n",
    "Skip this step if there are no cities that have humidity > 100%. "
   ]
  },
  {
   "cell_type": "code",
   "execution_count": null,
   "metadata": {},
   "outputs": [],
   "source": []
  },
  {
   "cell_type": "code",
   "execution_count": 7,
   "metadata": {
    "scrolled": true
   },
   "outputs": [
    {
     "data": {
      "text/plain": [
       "[]"
      ]
     },
     "execution_count": 7,
     "metadata": {},
     "output_type": "execute_result"
    }
   ],
   "source": [
    "#  Get the indices of cities that have humidity over 100%.\n",
    "humid = []\n",
    "ind = 0\n",
    "for city in cities:\n",
    "    try:\n",
    "        query = query_url+city\n",
    "        response = requests.get(query).json()\n",
    "        if response[\"main\"][\"humidity\"] > 100:\n",
    "            no_humid.append(ind)\n",
    "        ind = ind + 1\n",
    "    except KeyError:\n",
    "        pass\n",
    "humid"
   ]
  },
  {
   "cell_type": "code",
   "execution_count": 27,
   "metadata": {},
   "outputs": [],
   "source": [
    "# Make a new DataFrame equal to the city data to drop all humidity outliers by index.\n",
    "# Passing \"inplace=False\" will make a copy of the city_data DataFrame, which we call \"clean_city_data\".\n",
    "\n",
    "\n",
    "#No Humid Values over 100"
   ]
  },
  {
   "cell_type": "code",
   "execution_count": 28,
   "metadata": {},
   "outputs": [],
   "source": [
    "# Extract relevant fields from the data frame\n",
    "\n",
    "# Export the City_Data into a csv\n",
    "\n",
    "\n",
    "#No Humid Values over 100"
   ]
  },
  {
   "cell_type": "markdown",
   "metadata": {},
   "source": [
    "## Plotting the Data\n",
    "* Use proper labeling of the plots using plot titles (including date of analysis) and axes labels.\n",
    "* Save the plotted figures as .pngs."
   ]
  },
  {
   "cell_type": "markdown",
   "metadata": {},
   "source": [
    "## Latitude vs. Temperature Plot"
   ]
  },
  {
   "cell_type": "code",
   "execution_count": 8,
   "metadata": {
    "scrolled": true
   },
   "outputs": [
    {
     "data": {
      "image/png": "[encoded data removed]",
      "text/plain": [
       "<Figure size 432x288 with 1 Axes>"
      ]
     },
     "metadata": {
      "needs_background": "light"
     },
     "output_type": "display_data"
    }
   ],
   "source": [
    "plt.scatter(weather_data[\"latitude\"], weather_data[\"max temp\"])\n",
    "plt.title(\"Max temp vs Latitude\")\n",
    "plt.xlabel(\"Latitude\")\n",
    "plt.ylabel(\"Max Temp\")\n",
    "plt.savefig(\"lat_vs_temp.png\")"
   ]
  },
  {
   "cell_type": "code",
   "execution_count": 9,
   "metadata": {},
   "outputs": [],
   "source": [
    "# As latitude approaches 0, the max temp rises. This makes sense, given that the equator is the most pronounced \n",
    "#towards to sun"
   ]
  },
  {
   "cell_type": "markdown",
   "metadata": {},
   "source": [
    "## Latitude vs. Humidity Plot"
   ]
  },
  {
   "cell_type": "code",
   "execution_count": 10,
   "metadata": {},
   "outputs": [
    {
     "data": {
      "image/png": "[encoded data removed]",
      "text/plain": [
       "<Figure size 432x288 with 1 Axes>"
      ]
     },
     "metadata": {
      "needs_background": "light"
     },
     "output_type": "display_data"
    }
   ],
   "source": [
    "plt.scatter(weather_data[\"latitude\"], weather_data[\"humidity\"])\n",
    "plt.title(\"Humidity vs Latitude\")\n",
    "plt.xlabel(\"Latitude\")\n",
    "plt.ylabel(\"Humidity\")\n",
    "plt.savefig(\"lat_vs_humidity.png\")"
   ]
  },
  {
   "cell_type": "code",
   "execution_count": 11,
   "metadata": {},
   "outputs": [],
   "source": [
    "#No clear relationship between humidity and latitude"
   ]
  },
  {
   "cell_type": "markdown",
   "metadata": {},
   "source": [
    "## Latitude vs. Cloudiness Plot"
   ]
  },
  {
   "cell_type": "code",
   "execution_count": 12,
   "metadata": {},
   "outputs": [
    {
     "data": {
      "image/png": "[encoded data removed]",
      "text/plain": [
       "<Figure size 432x288 with 1 Axes>"
      ]
     },
     "metadata": {
      "needs_background": "light"
     },
     "output_type": "display_data"
    }
   ],
   "source": [
    "plt.scatter(weather_data[\"latitude\"], weather_data[\"clouds\"])\n",
    "plt.title(\"Cloudiness vs Latitude\")\n",
    "plt.xlabel(\"Latitude\")\n",
    "plt.ylabel(\"Cloud Denisty\")\n",
    "plt.savefig(\"lat_vs_cloud.png\")"
   ]
  },
  {
   "cell_type": "code",
   "execution_count": 13,
   "metadata": {},
   "outputs": [],
   "source": [
    "# No clear relationship, although noticeable skew of values toward poles, i.e. the 0 and 100 % cloudiness"
   ]
  },
  {
   "cell_type": "markdown",
   "metadata": {},
   "source": [
    "## Latitude vs. Wind Speed Plot"
   ]
  },
  {
   "cell_type": "code",
   "execution_count": 14,
   "metadata": {},
   "outputs": [
    {
     "data": {
      "image/png": "[encoded data removed]",
      "text/plain": [
       "<Figure size 432x288 with 1 Axes>"
      ]
     },
     "metadata": {
      "needs_background": "light"
     },
     "output_type": "display_data"
    }
   ],
   "source": [
    "plt.scatter(weather_data[\"latitude\"], weather_data[\"wind speed\"])\n",
    "plt.title(\"Wind Speed vs Latitude\")\n",
    "plt.xlabel(\"Latitude\")\n",
    "plt.ylabel(\"Wind Speed\")\n",
    "plt.savefig(\"lat_vs_wind.png\")"
   ]
  },
  {
   "cell_type": "code",
   "execution_count": 15,
   "metadata": {},
   "outputs": [],
   "source": [
    "#no clear realtionship, although wind speed seems skewed towards lower/0 speed"
   ]
  },
  {
   "cell_type": "markdown",
   "metadata": {},
   "source": [
    "## Linear Regression"
   ]
  },
  {
   "cell_type": "code",
   "execution_count": null,
   "metadata": {},
   "outputs": [],
   "source": [
    "# OPTIONAL: Create a function to create Linear Regression plots\n"
   ]
  },
  {
   "cell_type": "code",
   "execution_count": 17,
   "metadata": {
    "scrolled": true
   },
   "outputs": [
    {
     "data": {
      "text/html": [
       "<div>\n",
       "<style scoped>\n",
       "    .dataframe tbody tr th:only-of-type {\n",
       "        vertical-align: middle;\n",
       "    }\n",
       "\n",
       "    .dataframe tbody tr th {\n",
       "        vertical-align: top;\n",
       "    }\n",
       "\n",
       "    .dataframe thead th {\n",
       "        text-align: right;\n",
       "    }\n",
       "</style>\n",
       "<table border=\"1\" class=\"dataframe\">\n",
       "  <thead>\n",
       "    <tr style=\"text-align: right;\">\n",
       "      <th></th>\n",
       "      <th>latitude</th>\n",
       "      <th>longitude</th>\n",
       "      <th>max temp</th>\n",
       "      <th>humidity</th>\n",
       "      <th>clouds</th>\n",
       "      <th>wind speed</th>\n",
       "      <th>country</th>\n",
       "      <th>timezone</th>\n",
       "    </tr>\n",
       "  </thead>\n",
       "  <tbody>\n",
       "    <tr>\n",
       "      <th>0</th>\n",
       "      <td>50.68</td>\n",
       "      <td>156.12</td>\n",
       "      <td>52.29</td>\n",
       "      <td>84</td>\n",
       "      <td>34</td>\n",
       "      <td>1.16</td>\n",
       "      <td>RU</td>\n",
       "      <td>39600</td>\n",
       "    </tr>\n",
       "    <tr>\n",
       "      <th>3</th>\n",
       "      <td>35.13</td>\n",
       "      <td>140.30</td>\n",
       "      <td>75.99</td>\n",
       "      <td>91</td>\n",
       "      <td>100</td>\n",
       "      <td>1.99</td>\n",
       "      <td>JP</td>\n",
       "      <td>32400</td>\n",
       "    </tr>\n",
       "    <tr>\n",
       "      <th>4</th>\n",
       "      <td>51.03</td>\n",
       "      <td>-4.22</td>\n",
       "      <td>59.00</td>\n",
       "      <td>91</td>\n",
       "      <td>66</td>\n",
       "      <td>1.99</td>\n",
       "      <td>GB</td>\n",
       "      <td>3600</td>\n",
       "    </tr>\n",
       "    <tr>\n",
       "      <th>5</th>\n",
       "      <td>12.18</td>\n",
       "      <td>125.51</td>\n",
       "      <td>82.81</td>\n",
       "      <td>75</td>\n",
       "      <td>46</td>\n",
       "      <td>4.79</td>\n",
       "      <td>PH</td>\n",
       "      <td>28800</td>\n",
       "    </tr>\n",
       "    <tr>\n",
       "      <th>6</th>\n",
       "      <td>50.28</td>\n",
       "      <td>113.29</td>\n",
       "      <td>67.48</td>\n",
       "      <td>56</td>\n",
       "      <td>100</td>\n",
       "      <td>2.93</td>\n",
       "      <td>RU</td>\n",
       "      <td>32400</td>\n",
       "    </tr>\n",
       "    <tr>\n",
       "      <th>...</th>\n",
       "      <td>...</td>\n",
       "      <td>...</td>\n",
       "      <td>...</td>\n",
       "      <td>...</td>\n",
       "      <td>...</td>\n",
       "      <td>...</td>\n",
       "      <td>...</td>\n",
       "      <td>...</td>\n",
       "    </tr>\n",
       "    <tr>\n",
       "      <th>96</th>\n",
       "      <td>20.89</td>\n",
       "      <td>-156.47</td>\n",
       "      <td>91.40</td>\n",
       "      <td>46</td>\n",
       "      <td>20</td>\n",
       "      <td>18.34</td>\n",
       "      <td>US</td>\n",
       "      <td>-36000</td>\n",
       "    </tr>\n",
       "    <tr>\n",
       "      <th>97</th>\n",
       "      <td>78.22</td>\n",
       "      <td>15.64</td>\n",
       "      <td>46.40</td>\n",
       "      <td>75</td>\n",
       "      <td>75</td>\n",
       "      <td>13.87</td>\n",
       "      <td>SJ</td>\n",
       "      <td>7200</td>\n",
       "    </tr>\n",
       "    <tr>\n",
       "      <th>98</th>\n",
       "      <td>38.52</td>\n",
       "      <td>-28.70</td>\n",
       "      <td>70.54</td>\n",
       "      <td>70</td>\n",
       "      <td>28</td>\n",
       "      <td>2.80</td>\n",
       "      <td>PT</td>\n",
       "      <td>0</td>\n",
       "    </tr>\n",
       "    <tr>\n",
       "      <th>100</th>\n",
       "      <td>52.27</td>\n",
       "      <td>79.17</td>\n",
       "      <td>58.57</td>\n",
       "      <td>82</td>\n",
       "      <td>0</td>\n",
       "      <td>3.44</td>\n",
       "      <td>RU</td>\n",
       "      <td>25200</td>\n",
       "    </tr>\n",
       "    <tr>\n",
       "      <th>101</th>\n",
       "      <td>9.18</td>\n",
       "      <td>105.15</td>\n",
       "      <td>77.36</td>\n",
       "      <td>87</td>\n",
       "      <td>73</td>\n",
       "      <td>1.07</td>\n",
       "      <td>VN</td>\n",
       "      <td>25200</td>\n",
       "    </tr>\n",
       "  </tbody>\n",
       "</table>\n",
       "<p>67 rows × 8 columns</p>\n",
       "</div>"
      ],
      "text/plain": [
       "     latitude  longitude  max temp  humidity  clouds  wind speed country  \\\n",
       "0       50.68     156.12     52.29        84      34        1.16      RU   \n",
       "3       35.13     140.30     75.99        91     100        1.99      JP   \n",
       "4       51.03      -4.22     59.00        91      66        1.99      GB   \n",
       "5       12.18     125.51     82.81        75      46        4.79      PH   \n",
       "6       50.28     113.29     67.48        56     100        2.93      RU   \n",
       "..        ...        ...       ...       ...     ...         ...     ...   \n",
       "96      20.89    -156.47     91.40        46      20       18.34      US   \n",
       "97      78.22      15.64     46.40        75      75       13.87      SJ   \n",
       "98      38.52     -28.70     70.54        70      28        2.80      PT   \n",
       "100     52.27      79.17     58.57        82       0        3.44      RU   \n",
       "101      9.18     105.15     77.36        87      73        1.07      VN   \n",
       "\n",
       "     timezone  \n",
       "0       39600  \n",
       "3       32400  \n",
       "4        3600  \n",
       "5       28800  \n",
       "6       32400  \n",
       "..        ...  \n",
       "96     -36000  \n",
       "97       7200  \n",
       "98          0  \n",
       "100     25200  \n",
       "101     25200  \n",
       "\n",
       "[67 rows x 8 columns]"
      ]
     },
     "execution_count": 17,
     "metadata": {},
     "output_type": "execute_result"
    }
   ],
   "source": [
    "# Create Northern and Southern Hemisphere DataFrames\n",
    "north = weather_data[weather_data['latitude'] > 0]\n",
    "south = weather_data[weather_data['latitude'] < 0]\n",
    "north"
   ]
  },
  {
   "cell_type": "markdown",
   "metadata": {},
   "source": [
    "####  Northern Hemisphere - Max Temp vs. Latitude Linear Regression"
   ]
  },
  {
   "cell_type": "code",
   "execution_count": 20,
   "metadata": {},
   "outputs": [
    {
     "name": "stdout",
     "output_type": "stream",
     "text": [
      "y = -0.52x +90.34\n"
     ]
    },
    {
     "ename": "AttributeError",
     "evalue": "module 'matplotlib.pyplot' has no attribute 'annnotate'",
     "output_type": "error",
     "traceback": [
      "\u001b[1;31m---------------------------------------------------------------------------\u001b[0m",
      "\u001b[1;31mAttributeError\u001b[0m                            Traceback (most recent call last)",
      "\u001b[1;32m<ipython-input-20-2229bedad977>\u001b[0m in \u001b[0;36m<module>\u001b[1;34m\u001b[0m\n\u001b[0;32m     11\u001b[0m \u001b[0mplt\u001b[0m\u001b[1;33m.\u001b[0m\u001b[0mylabel\u001b[0m\u001b[1;33m(\u001b[0m\u001b[1;34m\"Max Temp\"\u001b[0m\u001b[1;33m)\u001b[0m\u001b[1;33m\u001b[0m\u001b[1;33m\u001b[0m\u001b[0m\n\u001b[0;32m     12\u001b[0m \u001b[0mprint\u001b[0m\u001b[1;33m(\u001b[0m\u001b[0mmxb\u001b[0m\u001b[1;33m)\u001b[0m\u001b[1;33m\u001b[0m\u001b[1;33m\u001b[0m\u001b[0m\n\u001b[1;32m---> 13\u001b[1;33m \u001b[0mplt\u001b[0m\u001b[1;33m.\u001b[0m\u001b[0mannnotate\u001b[0m\u001b[1;33m(\u001b[0m\u001b[0mmxb\u001b[0m\u001b[1;33m,\u001b[0m \u001b[1;36m50\u001b[0m\u001b[1;33m,\u001b[0m \u001b[1;36m5\u001b[0m\u001b[1;33m,\u001b[0m \u001b[0mfontsize\u001b[0m \u001b[1;33m=\u001b[0m \u001b[1;36m15\u001b[0m\u001b[1;33m,\u001b[0m \u001b[0mcolor\u001b[0m \u001b[1;33m=\u001b[0m \u001b[1;34m'r'\u001b[0m\u001b[1;33m)\u001b[0m\u001b[1;33m\u001b[0m\u001b[1;33m\u001b[0m\u001b[0m\n\u001b[0m\u001b[0;32m     14\u001b[0m \u001b[0mplt\u001b[0m\u001b[1;33m.\u001b[0m\u001b[0msavefig\u001b[0m\u001b[1;33m(\u001b[0m\u001b[1;34m\"Temp_lat_north_linregress.png\"\u001b[0m\u001b[1;33m)\u001b[0m\u001b[1;33m\u001b[0m\u001b[1;33m\u001b[0m\u001b[0m\n",
      "\u001b[1;31mAttributeError\u001b[0m: module 'matplotlib.pyplot' has no attribute 'annnotate'"
     ]
    },
    {
     "data": {
      "image/png": "[encoded data removed]",
      "text/plain": [
       "<Figure size 432x288 with 1 Axes>"
      ]
     },
     "metadata": {
      "needs_background": "light"
     },
     "output_type": "display_data"
    }
   ],
   "source": [
    "plt.scatter(north[\"latitude\"], north[\"max temp\"])\n",
    "(slope, intercept, rvalue, pvalue, stderr) = linregress(north[\"latitude\"], north[\"max temp\"])\n",
    "regress_values = north[\"latitude\"] * slope + intercept\n",
    "plt.plot(north[\"latitude\"], regress_values)\n",
    "mxb = \"y = \" + str(round(slope,2)) + \"x +\" + str(round(intercept,2))\n",
    "plt.title(\"Northern Max Temp vs. Latitude\")\n",
    "plt.xlabel(\"Latitude\")\n",
    "plt.ylabel(\"Max Temp\")\n",
    "print(mxb)\n",
    "plt.savefig(\"Temp_lat_north_linregress.png\")"
   ]
  },
  {
   "cell_type": "markdown",
   "metadata": {},
   "source": [
    "####  Southern Hemisphere - Max Temp vs. Latitude Linear Regression"
   ]
  },
  {
   "cell_type": "code",
   "execution_count": 63,
   "metadata": {},
   "outputs": [
    {
     "name": "stdout",
     "output_type": "stream",
     "text": [
      "y = 0.88x +85.4\n"
     ]
    },
    {
     "data": {
      "image/png": "[encoded data removed]",
      "text/plain": [
       "<Figure size 432x288 with 1 Axes>"
      ]
     },
     "metadata": {
      "needs_background": "light"
     },
     "output_type": "display_data"
    }
   ],
   "source": [
    "plt.scatter(south[\"latitude\"], south[\"max temp\"])\n",
    "(slope, intercept, rvalue, pvalue, stderr) = linregress(south[\"latitude\"], south[\"max temp\"])\n",
    "regress_values = south[\"latitude\"] * slope + intercept\n",
    "plt.plot(south[\"latitude\"], regress_values)\n",
    "mxb = \"y = \" + str(round(slope,2)) + \"x +\" + str(round(intercept,2))\n",
    "plt.title(\"Southern Max Temp vs. Latitude\")\n",
    "plt.xlabel(\"Latitude\")\n",
    "plt.ylabel(\"Max Temp\")\n",
    "print(mxb)\n",
    "plt.savefig(\"Temp_lat_south_linregress.png\")"
   ]
  },
  {
   "cell_type": "code",
   "execution_count": null,
   "metadata": {},
   "outputs": [],
   "source": [
    "#As seen in the scatter plot, the max temp rises towards 0. As such, it drops as the first graph departs 0, \n",
    "#and rises as the second approaches"
   ]
  },
  {
   "cell_type": "markdown",
   "metadata": {},
   "source": [
    "####  Northern Hemisphere - Humidity (%) vs. Latitude Linear Regression"
   ]
  },
  {
   "cell_type": "code",
   "execution_count": 25,
   "metadata": {},
   "outputs": [
    {
     "name": "stdout",
     "output_type": "stream",
     "text": [
      "y = -0.02x +76.01\n"
     ]
    },
    {
     "data": {
      "image/png": "[encoded data removed]",
      "text/plain": [
       "<Figure size 432x288 with 1 Axes>"
      ]
     },
     "metadata": {
      "needs_background": "light"
     },
     "output_type": "display_data"
    }
   ],
   "source": [
    "plt.scatter(north[\"latitude\"], north[\"humidity\"])\n",
    "(slope, intercept, rvalue, pvalue, stderr) = linregress(north[\"latitude\"], north[\"humidity\"])\n",
    "regress_values = north[\"latitude\"] * slope + intercept\n",
    "plt.plot(north[\"latitude\"], regress_values)\n",
    "mxb = \"y = \" + str(round(slope,2)) + \"x +\" + str(round(intercept,2))\n",
    "plt.title(\"Northern Humidity vs. Latitude\")\n",
    "plt.xlabel(\"Latitude\")\n",
    "plt.ylabel(\"Humidity\")\n",
    "print(mxb)\n",
    "plt.savefig(\"Humidity_lat_north_linregress.png\")"
   ]
  },
  {
   "cell_type": "markdown",
   "metadata": {},
   "source": [
    "####  Southern Hemisphere - Humidity (%) vs. Latitude Linear Regression"
   ]
  },
  {
   "cell_type": "code",
   "execution_count": 26,
   "metadata": {},
   "outputs": [
    {
     "name": "stdout",
     "output_type": "stream",
     "text": [
      "y = -0.38x +61.92\n"
     ]
    },
    {
     "data": {
      "image/png": "[encoded data removed]",
      "text/plain": [
       "<Figure size 432x288 with 1 Axes>"
      ]
     },
     "metadata": {
      "needs_background": "light"
     },
     "output_type": "display_data"
    }
   ],
   "source": [
    "plt.scatter(south[\"latitude\"], south[\"humidity\"])\n",
    "(slope, intercept, rvalue, pvalue, stderr) = linregress(south[\"latitude\"], south[\"humidity\"])\n",
    "regress_values = south[\"latitude\"] * slope + intercept\n",
    "plt.plot(south[\"latitude\"], regress_values)\n",
    "mxb = \"y = \" + str(round(slope,2)) + \"x +\" + str(round(intercept,2))\n",
    "plt.title(\"Southern Humidity vs. Latitude\")\n",
    "plt.xlabel(\"Latitude\")\n",
    "plt.ylabel(\"Humidity\")\n",
    "print(mxb)\n",
    "plt.savefig(\"Humidty_lat__south_linregress.png\")"
   ]
  },
  {
   "cell_type": "code",
   "execution_count": null,
   "metadata": {},
   "outputs": [],
   "source": [
    "#There was no distinct relationship between humidity and latitude, and the results above are lowly correlated negative \n",
    "#trends toward the equator"
   ]
  },
  {
   "cell_type": "markdown",
   "metadata": {},
   "source": [
    "####  Northern Hemisphere - Cloudiness (%) vs. Latitude Linear Regression"
   ]
  },
  {
   "cell_type": "code",
   "execution_count": 27,
   "metadata": {},
   "outputs": [
    {
     "name": "stdout",
     "output_type": "stream",
     "text": [
      "y = -0.18x +64.46\n"
     ]
    },
    {
     "data": {
      "image/png": "[encoded data removed]",
      "text/plain": [
       "<Figure size 432x288 with 1 Axes>"
      ]
     },
     "metadata": {
      "needs_background": "light"
     },
     "output_type": "display_data"
    }
   ],
   "source": [
    "plt.scatter(north[\"latitude\"], north[\"clouds\"])\n",
    "(slope, intercept, rvalue, pvalue, stderr) = linregress(north[\"latitude\"], north[\"clouds\"])\n",
    "regress_values = north[\"latitude\"] * slope + intercept\n",
    "plt.plot(north[\"latitude\"], regress_values)\n",
    "mxb = \"y = \" + str(round(slope,2)) + \"x +\" + str(round(intercept,2))\n",
    "plt.title(\"Northern Cloudiness vs. Latitude\")\n",
    "plt.xlabel(\"Latitude\")\n",
    "plt.ylabel(\"clouds\")\n",
    "print(mxb)\n",
    "plt.savefig(\"cloud_lat_north_linregress.png\")"
   ]
  },
  {
   "cell_type": "markdown",
   "metadata": {},
   "source": [
    "####  Southern Hemisphere - Cloudiness (%) vs. Latitude Linear Regression"
   ]
  },
  {
   "cell_type": "code",
   "execution_count": 29,
   "metadata": {},
   "outputs": [
    {
     "name": "stdout",
     "output_type": "stream",
     "text": [
      "y = -0.37x +31.23\n"
     ]
    },
    {
     "data": {
      "image/png": "[encoded data removed]",
      "text/plain": [
       "<Figure size 432x288 with 1 Axes>"
      ]
     },
     "metadata": {
      "needs_background": "light"
     },
     "output_type": "display_data"
    }
   ],
   "source": [
    "plt.scatter(south[\"latitude\"], south[\"clouds\"])\n",
    "(slope, intercept, rvalue, pvalue, stderr) = linregress(south[\"latitude\"], south[\"clouds\"])\n",
    "regress_values = south[\"latitude\"] * slope + intercept\n",
    "plt.plot(south[\"latitude\"], regress_values)\n",
    "mxb = \"y = \" + str(round(slope,2)) + \"x +\" + str(round(intercept,2))\n",
    "plt.title(\"Southern Cloudiness vs. Latitude\")\n",
    "plt.xlabel(\"Latitude\")\n",
    "plt.ylabel(\"clouds\")\n",
    "print(mxb)\n",
    "plt.savefig(\"clouds_lat_south_linregress.png\")"
   ]
  },
  {
   "cell_type": "code",
   "execution_count": null,
   "metadata": {},
   "outputs": [],
   "source": [
    "#Same as with humidity, cloudiness yields two low 'r' values showing negative trends towards the equator"
   ]
  },
  {
   "cell_type": "markdown",
   "metadata": {},
   "source": [
    "####  Northern Hemisphere - Wind Speed (mph) vs. Latitude Linear Regression"
   ]
  },
  {
   "cell_type": "code",
   "execution_count": 30,
   "metadata": {},
   "outputs": [
    {
     "name": "stdout",
     "output_type": "stream",
     "text": [
      "y = 0.04x +5.97\n"
     ]
    },
    {
     "data": {
      "image/png": "[encoded data removed]",
      "text/plain": [
       "<Figure size 432x288 with 1 Axes>"
      ]
     },
     "metadata": {
      "needs_background": "light"
     },
     "output_type": "display_data"
    }
   ],
   "source": [
    "plt.scatter(north[\"latitude\"], north[\"wind speed\"])\n",
    "(slope, intercept, rvalue, pvalue, stderr) = linregress(north[\"latitude\"], north[\"wind speed\"])\n",
    "regress_values = north[\"latitude\"] * slope + intercept\n",
    "plt.plot(north[\"latitude\"], regress_values)\n",
    "mxb = \"y = \" + str(round(slope,2)) + \"x +\" + str(round(intercept,2))\n",
    "plt.title(\"Northern Wind Speed vs. Latitude\")\n",
    "plt.xlabel(\"Latitude\")\n",
    "plt.ylabel(\"Wind Speed\")\n",
    "print(mxb)\n",
    "plt.savefig(\"wind_lat__north_linregress.png\")"
   ]
  },
  {
   "cell_type": "markdown",
   "metadata": {},
   "source": [
    "####  Southern Hemisphere - Wind Speed (mph) vs. Latitude Linear Regression"
   ]
  },
  {
   "cell_type": "code",
   "execution_count": 31,
   "metadata": {},
   "outputs": [
    {
     "name": "stdout",
     "output_type": "stream",
     "text": [
      "y = 0.09x +10.56\n"
     ]
    },
    {
     "data": {
      "image/png": "[encoded data removed]",
      "text/plain": [
       "<Figure size 432x288 with 1 Axes>"
      ]
     },
     "metadata": {
      "needs_background": "light"
     },
     "output_type": "display_data"
    }
   ],
   "source": [
    "plt.scatter(south[\"latitude\"], south[\"wind speed\"])\n",
    "(slope, intercept, rvalue, pvalue, stderr) = linregress(south[\"latitude\"], south[\"wind speed\"])\n",
    "regress_values = south[\"latitude\"] * slope + intercept\n",
    "plt.plot(south[\"latitude\"], regress_values)\n",
    "mxb = \"y = \" + str(round(slope,2)) + \"x +\" + str(round(intercept,2))\n",
    "plt.title(\"Southern Wind Speed vs. Latitude\")\n",
    "plt.xlabel(\"Latitude\")\n",
    "plt.ylabel(\"Wind Speed\")\n",
    "print(mxb)\n",
    "plt.savefig(\"wind_lat__south_linregress.png\")"
   ]
  },
  {
   "cell_type": "code",
   "execution_count": null,
   "metadata": {},
   "outputs": [],
   "source": [
    "#Same as the other two, the only difference being that the slope is even lower, as there was such a skew on the scatter\n",
    "#plot toward the low/0 region of wind speed"
   ]
  }
 ],
 "metadata": {
  "anaconda-cloud": {},
  "kernel_info": {
   "name": "python3"
  },
  "kernelspec": {
   "display_name": "Python 3",
   "language": "python",
   "name": "python3"
  },
  "language_info": {
   "codemirror_mode": {
    "name": "ipython",
    "version": 3
   },
   "file_extension": ".py",
   "mimetype": "text/x-python",
   "name": "python",
   "nbconvert_exporter": "python",
   "pygments_lexer": "ipython3",
   "version": "3.7.6"
  },
  "latex_envs": {
   "LaTeX_envs_menu_present": true,
   "autoclose": false,
   "autocomplete": true,
   "bibliofile": "biblio.bib",
   "cite_by": "apalike",
   "current_citInitial": 1,
   "eqLabelWithNumbers": true,
   "eqNumInitial": 1,
   "hotkeys": {
    "equation": "Ctrl-E",
    "itemize": "Ctrl-I"
   },
   "labels_anchors": false,
   "latex_user_defs": false,
   "report_style_numbering": false,
   "user_envs_cfg": false
  },
  "nteract": {
   "version": "0.12.3"
  }
 },
 "nbformat": 4,
 "nbformat_minor": 2
}
